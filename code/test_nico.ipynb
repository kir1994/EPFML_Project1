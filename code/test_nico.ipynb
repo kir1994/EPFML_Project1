{
 "cells": [
  {
   "cell_type": "code",
   "execution_count": 1,
   "metadata": {
    "collapsed": true
   },
   "outputs": [],
   "source": [
    "# Useful starting lines\n",
    "%matplotlib inline\n",
    "import numpy as np\n",
    "import matplotlib.pyplot as plt\n",
    "%load_ext autoreload\n",
    "%autoreload 2"
   ]
  },
  {
   "cell_type": "markdown",
   "metadata": {},
   "source": [
    "# Import the data"
   ]
  },
  {
   "cell_type": "code",
   "execution_count": 2,
   "metadata": {
    "collapsed": true
   },
   "outputs": [],
   "source": [
    "from utilities.proj1_helpers import *"
   ]
  },
  {
   "cell_type": "code",
   "execution_count": 3,
   "metadata": {},
   "outputs": [
    {
     "name": "stdout",
     "output_type": "stream",
     "text": [
      "(250000,) (250000, 30) (250000,)\n"
     ]
    }
   ],
   "source": [
    "train_data = load_csv_data(\"data/train.csv\")\n",
    "y_train, x_train, ids_train = train_data[0], train_data[1], train_data[2]\n",
    "N, D = x_train.shape\n",
    "print(y_train.shape, x_train.shape, ids_train.shape)"
   ]
  },
  {
   "cell_type": "code",
   "execution_count": 4,
   "metadata": {},
   "outputs": [
    {
     "name": "stdout",
     "output_type": "stream",
     "text": [
      "(568238,) (568238, 30) (568238,)\n"
     ]
    }
   ],
   "source": [
    "test_data = load_csv_data(\"data/test.csv\")\n",
    "y_test, x_test, ids_test = test_data[0], test_data[1], test_data[2]\n",
    "print(y_test.shape, x_test.shape, ids_test.shape)"
   ]
  },
  {
   "cell_type": "code",
   "execution_count": 5,
   "metadata": {
    "collapsed": true
   },
   "outputs": [],
   "source": [
    "from utilities.implementations import *\n",
    "from utilities.cross_validation import cross_validation, build_k_indices, split_data\n",
    "#from utilities.pca import compute_pca\n",
    "from utilities.preprocessing import standard_scaler"
   ]
  },
  {
   "cell_type": "markdown",
   "metadata": {},
   "source": [
    "# Pre-process it"
   ]
  },
  {
   "cell_type": "markdown",
   "metadata": {},
   "source": [
    "## Take care of missing values\n",
    "Too many samples have at least one missing values (around 73%), we have to replace them with the mean (which will be 0 after normalization)."
   ]
  },
  {
   "cell_type": "code",
   "execution_count": 6,
   "metadata": {
    "scrolled": true
   },
   "outputs": [
    {
     "name": "stdout",
     "output_type": "stream",
     "text": [
      "181886 / 250000 = 72.7544 % of samples with missing values\n"
     ]
    }
   ],
   "source": [
    "# Count the number of samples with missing values\n",
    "count = 0\n",
    "for i in range(len(x_train)):\n",
    "    if -999.0 in x_train[i,:]:\n",
    "        count += 1\n",
    "        \n",
    "print(count, \"/\", len(x_train), \"=\", count/len(x_train)*100, \"% of samples with missing values\")"
   ]
  },
  {
   "cell_type": "code",
   "execution_count": 7,
   "metadata": {
    "collapsed": true
   },
   "outputs": [],
   "source": [
    "def standardize_missing(x, x_missing_mask):\n",
    "    \"\"\" Standardize the data and set the missing values to 0(=the mean) \"\"\"\n",
    "    # Normalize and center the data considering ONLY the correct values\n",
    "    x_mean = np.zeros(x.shape[1])\n",
    "    x_std  = np.zeros(x.shape[1])\n",
    "\n",
    "    # Loop on the features, compute the mean/std without the missing values\n",
    "    for i in range(x.shape[1]):\n",
    "        feature_values = x[x_missing_mask[:, i], i]\n",
    "        x_mean[i] = feature_values.mean()\n",
    "        x_std[i]  = feature_values.std()\n",
    "    \n",
    "    # Normalize and center the data\n",
    "    x_norm = (x - x_mean) / x_std\n",
    "    # Set the missing values to 0 (= the mean)\n",
    "    x_norm[np.invert(x_missing_mask)] = 0.\n",
    "    return x_norm, x_mean, x_std"
   ]
  },
  {
   "cell_type": "code",
   "execution_count": 8,
   "metadata": {},
   "outputs": [
    {
     "name": "stdout",
     "output_type": "stream",
     "text": [
      "(250000, 30) (30,) (30,)\n"
     ]
    }
   ],
   "source": [
    "x, x_train_mean, x_train_std = standardize_missing(x_train, x_train!=-999.)\n",
    "print(x.shape, x_train_mean.shape, x_train_std.shape)"
   ]
  },
  {
   "cell_type": "markdown",
   "metadata": {},
   "source": [
    "## PCA\n",
    "In order to reduce the dimensionality and decorrelate the data."
   ]
  },
  {
   "cell_type": "code",
   "execution_count": 9,
   "metadata": {
    "collapsed": true
   },
   "outputs": [],
   "source": [
    "def compute_pca(x, number_pc=-1, variance=0.95):\n",
    "    N, D = np.shape(x)\n",
    "\n",
    "    # Center the data\n",
    "    g = np.mean(x, axis=0) # center of mass\n",
    "    x_c = x - g\n",
    "    \n",
    "    # Spectral analysis\n",
    "    Sigma = x_c.T.dot(x_c)\n",
    "    values, vectors = np.linalg.eig(Sigma)\n",
    "    idx = values.argsort()[::-1] # eigenvalues and eigenvectors sorted together in decreasing order\n",
    "    values = values[idx]\n",
    "    vectors = vectors[:, idx]\n",
    "    \n",
    "    # Selecting the principal components\n",
    "    if number_pc < 0:\n",
    "        rank = np.sum(values)\n",
    "        sum_values = values[0]\n",
    "        number_pc = 1\n",
    "        #print(sum_values/rank) #### PRINT HERE\n",
    "        while sum_values/rank < variance:\n",
    "            sum_values += values[number_pc]\n",
    "            number_pc += 1\n",
    "            #print(sum_values/rank) #### PRINT HERE\n",
    "    pc = x_c.dot(vectors[:, :number_pc])\n",
    "    return pc, vectors[:, :number_pc]"
   ]
  },
  {
   "cell_type": "code",
   "execution_count": 10,
   "metadata": {},
   "outputs": [
    {
     "name": "stdout",
     "output_type": "stream",
     "text": [
      "(250000, 30) \n",
      " (30, 30)\n"
     ]
    }
   ],
   "source": [
    "x_pc, eigenvectors = compute_pca(x, x.shape[1])\n",
    "print(x_pc.shape, \"\\n\", eigenvectors.shape)"
   ]
  },
  {
   "cell_type": "markdown",
   "metadata": {},
   "source": [
    "## Plot the data\n",
    "Plot the data in 3D (along 3 arbitrary axis), blue is for the signal, and red for the background."
   ]
  },
  {
   "cell_type": "code",
   "execution_count": 11,
   "metadata": {},
   "outputs": [
    {
     "data": {
      "image/png": "[encoded data removed]",
      "text/plain": [
       "<matplotlib.figure.Figure at 0x23c1fd27e48>"
      ]
     },
     "metadata": {},
     "output_type": "display_data"
    }
   ],
   "source": [
    "import matplotlib.pyplot as plt\n",
    "from mpl_toolkits.mplot3d import Axes3D\n",
    "\n",
    "# Subsamples\n",
    "x_sub = x[::1000] # x to have original data (normalized and centered), and x_pc to use the data after the PCA\n",
    "y_sub = y_train[::1000]\n",
    "\n",
    "y_color = ['blue' if y_sub[i] > 0. else 'red' for i in range(len(y_sub))]\n",
    "\n",
    "fig = plt.figure()\n",
    "ax = fig.add_subplot(111, projection='3d')\n",
    "ax.scatter3D(x_sub[:, 1], x_sub[:, 2], x_sub[:, 11], c=y_color) # change the numbers to have different plotting axis\n",
    "ax.set_xlabel(\"x\")\n",
    "ax.set_ylabel(\"y\")\n",
    "ax.set_zlabel(\"z\")\n",
    "plt.show()"
   ]
  },
  {
   "cell_type": "markdown",
   "metadata": {},
   "source": [
    "## Build polynomial features\n",
    "Build polynomial features, and a column of 1s at the beginning."
   ]
  },
  {
   "cell_type": "code",
   "execution_count": 12,
   "metadata": {
    "collapsed": true
   },
   "outputs": [],
   "source": [
    "def build_poly(x, d=1):\n",
    "    \"\"\" Build polynomial features out of the given data, up to degree 'd' >= 1 \"\"\"\n",
    "    # At least degree 1\n",
    "    if d < 1:\n",
    "        d = 1\n",
    "    \n",
    "    tx = np.ones(x.shape[0])\n",
    "    for i in range(d):\n",
    "        tx = np.c_[tx, x**(i+1)]\n",
    "    return tx"
   ]
  },
  {
   "cell_type": "markdown",
   "metadata": {},
   "source": [
    "## Pre-processing function\n",
    "Build polynomial features + standardize and take care of missing values"
   ]
  },
  {
   "cell_type": "code",
   "execution_count": 13,
   "metadata": {
    "collapsed": true
   },
   "outputs": [],
   "source": [
    "def preprocess_data(x_train, degree=1, missing_value=-999.):\n",
    "    # Build polynomial features\n",
    "    x = build_poly(x_train, degree)\n",
    "    \n",
    "    # Create a mask for the missing values (=False)\n",
    "    x_train_mask = (x_train != -999.)\n",
    "    x_mask = x_train_mask\n",
    "    for i in range(degree-1):\n",
    "        x_mask = np.c_[x_mask, x_train_mask]\n",
    "    \n",
    "    # Standardize the features, and set the missing values to 0(=the mean)\n",
    "    tx, x_mean, x_std = standardize_missing(x[:,1:], x_mask)\n",
    "    tx = np.c_[np.ones(x.shape[0]), tx]\n",
    "    \n",
    "    return tx, x_mean, x_std"
   ]
  },
  {
   "cell_type": "markdown",
   "metadata": {},
   "source": [
    "# Learn a model"
   ]
  },
  {
   "cell_type": "code",
   "execution_count": 14,
   "metadata": {
    "collapsed": true
   },
   "outputs": [],
   "source": [
    "def accuracy(y, x, w):\n",
    "    \"\"\" Compute the accuracy of the classification \"\"\"\n",
    "    y_pred = predict_labels(w, x)\n",
    "    return 1. - np.sum(np.absolute(y - y_pred)) / 2. / y.shape[0]"
   ]
  },
  {
   "cell_type": "markdown",
   "metadata": {},
   "source": [
    "## Split the data\n",
    "Split the data into train and validation set. We first learn the model on the train set, and then test it on the validation set.\n",
    "\n",
    "The ration gives the percent of the data going to train (ratio = 0.8 means 80% for training and 20% for validating)."
   ]
  },
  {
   "cell_type": "code",
   "execution_count": 15,
   "metadata": {},
   "outputs": [
    {
     "name": "stdout",
     "output_type": "stream",
     "text": [
      "(250000, 324) (319,) (319,)\n",
      "(165000, 324) (85000, 324) \n",
      " 66.0 % of training\n"
     ]
    }
   ],
   "source": [
    "seed = 3\n",
    "degree = 11\n",
    "ratio = 0.66\n",
    "\n",
    "# Build poly + standardization\n",
    "tx, x_mean, x_std = preprocess_data(np.delete(x_train, 22, axis=1), degree)\n",
    "# Boolean features\n",
    "tx = np.c_[tx, x_train[:,0] == -999, x_train[:,22] == 1, x_train[:,22] == 2 , x_train[:,22] == 3]\n",
    "print(tx.shape, x_mean.shape, x_std.shape)\n",
    "\n",
    "x_tr, y_tr, x_te, y_te = split_data(tx, y_train, ratio, seed)\n",
    "print(x_tr.shape, x_te.shape, \"\\n\", x_tr.shape[0] / (x_tr.shape[0]+x_te.shape[0])*100, \"% of training\")"
   ]
  },
  {
   "cell_type": "markdown",
   "metadata": {},
   "source": [
    "## Weight and loss\n",
    "Compute here the weight and the resulting loss of the chosen model."
   ]
  },
  {
   "cell_type": "code",
   "execution_count": null,
   "metadata": {
    "collapsed": true,
    "scrolled": true
   },
   "outputs": [],
   "source": [
    "## Logistic regression\n",
    "\n",
    "# y = {-1; +1} => y = {0; +1}\n",
    "y_tr_log = (y_tr + 1) / 2\n",
    "\n",
    "initial_w = np.zeros(x_tr.shape[1])\n",
    "max_iters = 10000\n",
    "gamma     = 5E-6\n",
    "\n",
    "w, loss_tr = logistic_regression(y_tr_log, x_tr, initial_w, max_iters, gamma)\n",
    "print(\"Train logistic loss =\", loss_tr)\n",
    "\n",
    "# Compute the accuracy\n",
    "accuracy_tr = accuracy(y_tr, x_tr, w)\n",
    "print(\"Train Accuracy =\", accuracy_tr)"
   ]
  },
  {
   "cell_type": "code",
   "execution_count": 306,
   "metadata": {},
   "outputs": [
    {
     "name": "stdout",
     "output_type": "stream",
     "text": [
      "Train MSE loss = 0.270127538035\n",
      "Train Accuracy = 0.820218181818\n"
     ]
    }
   ],
   "source": [
    "# LS / ridge regression\n",
    "lambda_ = 0.\n",
    "w, loss_tr = least_squares(y_tr, x_tr)\n",
    "print(\"Train MSE loss =\", loss_tr)\n",
    "\n",
    "# Compute the accuracy\n",
    "accuracy_tr = accuracy(y_tr, x_tr, w)\n",
    "print(\"Train Accuracy =\", accuracy_tr)"
   ]
  },
  {
   "cell_type": "markdown",
   "metadata": {},
   "source": [
    "## Test the model\n",
    "Test the learned model on the validation set."
   ]
  },
  {
   "cell_type": "code",
   "execution_count": 307,
   "metadata": {
    "scrolled": true
   },
   "outputs": [
    {
     "name": "stdout",
     "output_type": "stream",
     "text": [
      "Test MSE loss = 482907.158566\n",
      "Test Accuracy = 0.819835294118\n"
     ]
    }
   ],
   "source": [
    "# y = {-1; +1} => y = {0; +1}\n",
    "#y_te_log = (y_te + 1) / 2\n",
    "\n",
    "#loss_te = compute_logistic_loss(y_te_log, x_te, w)\n",
    "#print(\"Test logistic loss =\", loss_te)\n",
    "\n",
    "loss_te = compute_mse_loss(y_te, x_te, w)\n",
    "print(\"Test MSE loss =\", loss_te)\n",
    "\n",
    "# Compute the accuracy\n",
    "accuracy_te = accuracy(y_te, x_te, w)\n",
    "print(\"Test Accuracy =\", accuracy_te)"
   ]
  },
  {
   "cell_type": "code",
   "execution_count": 304,
   "metadata": {},
   "outputs": [
    {
     "name": "stdout",
     "output_type": "stream",
     "text": [
      "Train : 0.817903030303 +- 0.00391951722066\n",
      "Test : 0.816136470588 +- 0.00394050283966\n"
     ]
    }
   ],
   "source": [
    "train_acc = np.array([0.820466666667, 0.819648484848, 0.819533333333, 0.810090909091, 0.819775757576])\n",
    "test_acc  = np.array([0.816317647059, 0.817788235294, 0.819435294118, 0.808529411765, 0.818611764706])\n",
    "\n",
    "print(\"Train :\", train_acc.mean(), \"+-\", train_acc.std())\n",
    "print(\"Test :\", test_acc.mean(), \"+-\", test_acc.std())"
   ]
  },
  {
   "cell_type": "markdown",
   "metadata": {},
   "source": [
    "## Cross-validation\n",
    "Do k-fold cross validation on a specific set of parameter."
   ]
  },
  {
   "cell_type": "code",
   "execution_count": 221,
   "metadata": {},
   "outputs": [
    {
     "name": "stdout",
     "output_type": "stream",
     "text": [
      "(250000, 34) (29,) (29,)\n",
      "(250000, 63) (58,) (58,)\n",
      "(250000, 92) (87,) (87,)\n",
      "(250000, 121) (116,) (116,)\n",
      "(250000, 150) (145,) (145,)\n",
      "(250000, 179) (174,) (174,)\n",
      "(250000, 208) (203,) (203,)\n",
      "(250000, 237) (232,) (232,)\n",
      "(250000, 266) (261,) (261,)\n",
      "(250000, 295) (290,) (290,)\n",
      "(250000, 324) (319,) (319,)\n",
      "(250000, 353) (348,) (348,)\n",
      "(250000, 382) (377,) (377,)\n",
      "(250000, 411) (406,) (406,)\n",
      "(250000, 440) (435,) (435,)\n",
      "(250000, 469) (464,) (464,)\n",
      "(250000, 498) (493,) (493,)\n",
      "(250000, 527) (522,) (522,)\n",
      "(250000, 556) (551,) (551,)\n",
      "(250000, 585) (580,) (580,)\n",
      "(250000, 614) (609,) (609,)\n",
      "(250000, 643) (638,) (638,)\n",
      "(250000, 672) (667,) (667,)\n",
      "(250000, 701) (696,) (696,)\n",
      "(250000, 730) (725,) (725,)\n",
      "\n",
      "Degree = 1 :\n",
      "Train accuracy = 0.74692 +- 0.00041\n",
      "Test accuracy  = 0.74692 +- 0.00204\n",
      "\n",
      "Degree = 2 :\n",
      "Train accuracy = 0.77483 +- 0.00063\n",
      "Test accuracy  = 0.77485 +- 0.00162\n",
      "\n",
      "Degree = 3 :\n",
      "Train accuracy = 0.78650 +- 0.00060\n",
      "Test accuracy  = 0.78618 +- 0.00124\n",
      "\n",
      "Degree = 4 :\n",
      "Train accuracy = 0.79487 +- 0.00092\n",
      "Test accuracy  = 0.79478 +- 0.00138\n",
      "\n",
      "Degree = 5 :\n",
      "Train accuracy = 0.79906 +- 0.00059\n",
      "Test accuracy  = 0.79874 +- 0.00143\n",
      "\n",
      "Degree = 6 :\n",
      "Train accuracy = 0.80090 +- 0.00114\n",
      "Test accuracy  = 0.80040 +- 0.00166\n",
      "\n",
      "Degree = 7 :\n",
      "Train accuracy = 0.80667 +- 0.00183\n",
      "Test accuracy  = 0.80627 +- 0.00125\n",
      "\n",
      "Degree = 8 :\n",
      "Train accuracy = 0.81372 +- 0.00181\n",
      "Test accuracy  = 0.81278 +- 0.00149\n",
      "\n",
      "Degree = 9 :\n",
      "Train accuracy = 0.81830 +- 0.00126\n",
      "Test accuracy  = 0.81759 +- 0.00232\n",
      "\n",
      "Degree = 10 :\n",
      "Train accuracy = 0.81928 +- 0.00116\n",
      "Test accuracy  = 0.81848 +- 0.00245\n",
      "\n",
      "Degree = 11 :\n",
      "Train accuracy = 0.82017 +- 0.00103\n",
      "Test accuracy  = 0.81948 +- 0.00269\n",
      "\n",
      "Degree = 12 :\n",
      "Train accuracy = 0.80791 +- 0.01971\n",
      "Test accuracy  = 0.80646 +- 0.01925\n",
      "\n",
      "Degree = 13 :\n",
      "Train accuracy = 0.82034 +- 0.00069\n",
      "Test accuracy  = 0.81975 +- 0.00319\n",
      "\n",
      "Degree = 14 :\n",
      "Train accuracy = 0.82018 +- 0.00079\n",
      "Test accuracy  = 0.81951 +- 0.00289\n",
      "\n",
      "Degree = 15 :\n",
      "Train accuracy = 0.81788 +- 0.00363\n",
      "Test accuracy  = 0.81742 +- 0.00195\n",
      "\n",
      "Degree = 16 :\n",
      "Train accuracy = 0.81743 +- 0.00775\n",
      "Test accuracy  = 0.81671 +- 0.00627\n",
      "\n",
      "Degree = 17 :\n",
      "Train accuracy = 0.82118 +- 0.00201\n",
      "Test accuracy  = 0.82006 +- 0.00247\n",
      "\n",
      "Degree = 18 :\n",
      "Train accuracy = 0.82187 +- 0.00083\n",
      "Test accuracy  = 0.82112 +- 0.00213\n",
      "\n",
      "Degree = 19 :\n",
      "Train accuracy = 0.81465 +- 0.00978\n",
      "Test accuracy  = 0.81395 +- 0.00792\n",
      "\n",
      "Degree = 20 :\n",
      "Train accuracy = 0.81860 +- 0.00434\n",
      "Test accuracy  = 0.81800 +- 0.00307\n",
      "\n",
      "Degree = 21 :\n",
      "Train accuracy = 0.80908 +- 0.01548\n",
      "Test accuracy  = 0.80790 +- 0.01361\n",
      "\n",
      "Degree = 22 :\n",
      "Train accuracy = 0.77274 +- 0.09651\n",
      "Test accuracy  = 0.77071 +- 0.09607\n",
      "\n",
      "Degree = 23 :\n",
      "Train accuracy = 0.79299 +- 0.03174\n",
      "Test accuracy  = 0.79233 +- 0.02942\n",
      "\n",
      "Degree = 24 :\n",
      "Train accuracy = 0.77426 +- 0.07969\n",
      "Test accuracy  = 0.77517 +- 0.07853\n",
      "\n",
      "Degree = 25 :\n",
      "Train accuracy = 0.81226 +- 0.00833\n",
      "Test accuracy  = 0.81164 +- 0.00877\n"
     ]
    },
    {
     "data": {
      "image/png": "[encoded data removed]",
      "text/plain": [
       "<matplotlib.figure.Figure at 0x15d814c2f28>"
      ]
     },
     "metadata": {},
     "output_type": "display_data"
    }
   ],
   "source": [
    "seed    = 3\n",
    "degrees = [i for i in range(1, 26)]\n",
    "k_fold  = 5\n",
    "#gamma     = 1E-7\n",
    "#lambda_   = 1E-2\n",
    "#initial_w = np.zeros(x_tr.shape[1])\n",
    "#max_iters = 1000\n",
    "\n",
    "# Define arrays to store the accuracy of training data and test data\n",
    "acc_tr = np.zeros((len(degrees), k_fold))\n",
    "acc_te = np.zeros((len(degrees), k_fold))\n",
    "for i,degree in enumerate(degrees):\n",
    "    ## Pre-process the training data\n",
    "    # Build poly + standardization\n",
    "    tx, x_mean, x_std = preprocess_data(np.delete(x_train, 22, axis=1), degree)\n",
    "    # Boolean features\n",
    "    tx = np.c_[tx, x_train[:,0] == -999, x_train[:,22] == 1, x_train[:,22] == 2 , x_train[:,22] == 3]\n",
    "    print(tx.shape, x_mean.shape, x_std.shape)\n",
    "\n",
    "    # Split data in k fold\n",
    "    k_indices = build_k_indices(y_train, k_fold, seed, stratification=True)\n",
    "\n",
    "    for k in range(k_fold):\n",
    "        # Get k'th subgroup in test, others in train\n",
    "        x_tr = tx[k_indices[np.arange(len(k_indices))!=k].ravel(), :]\n",
    "        y_tr = y_train[k_indices[np.arange(len(k_indices))!=k].ravel()]\n",
    "\n",
    "        x_te = tx[k_indices[k], :]\n",
    "        y_te = y_train[k_indices[k]]\n",
    "\n",
    "        # Train the model\n",
    "        w, loss_tr = least_squares(y_tr, x_tr)\n",
    "        acc_tr[i, k] = accuracy(y_tr, x_tr, w)\n",
    "\n",
    "        # Test the model    \n",
    "        loss_te = compute_mse_loss(y_te, x_te, w)\n",
    "        acc_te[i, k] = accuracy(y_te, x_te, w)\n",
    "\n",
    "#print(\"{}\\n{}\".format(acc_tr, acc_te))\n",
    "for i,degree in enumerate(degrees):\n",
    "    print(\"\\nDegree =\", degree, \":\")\n",
    "    print(\"Train accuracy = {:.5f} +- {:.5f}\".format(acc_tr[i, :].mean(), acc_tr[i, :].std()))\n",
    "    print(\"Test accuracy  = {:.5f} +- {:.5f}\".format(acc_te[i, :].mean(), acc_te[i, :].std()))\n",
    "\n",
    "# Plot the results\n",
    "plt.errorbar(np.array(degrees), acc_tr.mean(axis=1), acc_tr.std(axis=1))\n",
    "plt.errorbar(np.array(degrees), acc_te.mean(axis=1), acc_te.std(axis=1))\n",
    "plt.legend([\"Training\", \"Testing\"])\n",
    "plt.show()"
   ]
  },
  {
   "cell_type": "code",
   "execution_count": 239,
   "metadata": {
    "scrolled": true
   },
   "outputs": [
    {
     "name": "stderr",
     "output_type": "stream",
     "text": [
      "[autoreload of numpy failed: Traceback (most recent call last):\n",
      "  File \"C:\\Users\\nicol\\Anaconda3\\lib\\site-packages\\IPython\\extensions\\autoreload.py\", line 246, in check\n",
      "    superreload(m, reload, self.old_objects)\n",
      "  File \"C:\\Users\\nicol\\Anaconda3\\lib\\site-packages\\IPython\\extensions\\autoreload.py\", line 369, in superreload\n",
      "    module = reload(module)\n",
      "  File \"C:\\Users\\nicol\\Anaconda3\\lib\\imp.py\", line 314, in reload\n",
      "    return importlib.reload(module)\n",
      "  File \"C:\\Users\\nicol\\Anaconda3\\lib\\importlib\\__init__.py\", line 166, in reload\n",
      "    _bootstrap._exec(spec, module)\n",
      "  File \"<frozen importlib._bootstrap>\", line 608, in _exec\n",
      "  File \"<frozen importlib._bootstrap_external>\", line 678, in exec_module\n",
      "  File \"<frozen importlib._bootstrap>\", line 205, in _call_with_frames_removed\n",
      "  File \"C:\\Users\\nicol\\Anaconda3\\lib\\site-packages\\numpy\\__init__.py\", line 152, in <module>\n",
      "    test = testing.nosetester._numpy_tester().test\n",
      "NameError: name 'testing' is not defined\n",
      "]\n",
      "[autoreload of numpy.lib failed: Traceback (most recent call last):\n",
      "  File \"C:\\Users\\nicol\\Anaconda3\\lib\\site-packages\\IPython\\extensions\\autoreload.py\", line 246, in check\n",
      "    superreload(m, reload, self.old_objects)\n",
      "  File \"C:\\Users\\nicol\\Anaconda3\\lib\\site-packages\\IPython\\extensions\\autoreload.py\", line 369, in superreload\n",
      "    module = reload(module)\n",
      "  File \"C:\\Users\\nicol\\Anaconda3\\lib\\imp.py\", line 314, in reload\n",
      "    return importlib.reload(module)\n",
      "  File \"C:\\Users\\nicol\\Anaconda3\\lib\\importlib\\__init__.py\", line 166, in reload\n",
      "    _bootstrap._exec(spec, module)\n",
      "  File \"<frozen importlib._bootstrap>\", line 608, in _exec\n",
      "  File \"<frozen importlib._bootstrap_external>\", line 678, in exec_module\n",
      "  File \"<frozen importlib._bootstrap>\", line 205, in _call_with_frames_removed\n",
      "  File \"C:\\Users\\nicol\\Anaconda3\\lib\\site-packages\\numpy\\lib\\__init__.py\", line 31, in <module>\n",
      "    __all__ += type_check.__all__\n",
      "NameError: name 'type_check' is not defined\n",
      "]\n",
      "[autoreload of numpy.testing failed: Traceback (most recent call last):\n",
      "  File \"C:\\Users\\nicol\\Anaconda3\\lib\\site-packages\\IPython\\extensions\\autoreload.py\", line 246, in check\n",
      "    superreload(m, reload, self.old_objects)\n",
      "  File \"C:\\Users\\nicol\\Anaconda3\\lib\\site-packages\\IPython\\extensions\\autoreload.py\", line 369, in superreload\n",
      "    module = reload(module)\n",
      "  File \"C:\\Users\\nicol\\Anaconda3\\lib\\imp.py\", line 314, in reload\n",
      "    return importlib.reload(module)\n",
      "  File \"C:\\Users\\nicol\\Anaconda3\\lib\\importlib\\__init__.py\", line 166, in reload\n",
      "    _bootstrap._exec(spec, module)\n",
      "  File \"<frozen importlib._bootstrap>\", line 608, in _exec\n",
      "  File \"<frozen importlib._bootstrap_external>\", line 678, in exec_module\n",
      "  File \"<frozen importlib._bootstrap>\", line 205, in _call_with_frames_removed\n",
      "  File \"C:\\Users\\nicol\\Anaconda3\\lib\\site-packages\\numpy\\testing\\__init__.py\", line 15, in <module>\n",
      "    test = nosetester._numpy_tester().test\n",
      "NameError: name 'nosetester' is not defined\n",
      "]\n",
      "[autoreload of numpy.matrixlib failed: Traceback (most recent call last):\n",
      "  File \"C:\\Users\\nicol\\Anaconda3\\lib\\site-packages\\IPython\\extensions\\autoreload.py\", line 246, in check\n",
      "    superreload(m, reload, self.old_objects)\n",
      "  File \"C:\\Users\\nicol\\Anaconda3\\lib\\site-packages\\IPython\\extensions\\autoreload.py\", line 369, in superreload\n",
      "    module = reload(module)\n",
      "  File \"C:\\Users\\nicol\\Anaconda3\\lib\\imp.py\", line 314, in reload\n",
      "    return importlib.reload(module)\n",
      "  File \"C:\\Users\\nicol\\Anaconda3\\lib\\importlib\\__init__.py\", line 166, in reload\n",
      "    _bootstrap._exec(spec, module)\n",
      "  File \"<frozen importlib._bootstrap>\", line 608, in _exec\n",
      "  File \"<frozen importlib._bootstrap_external>\", line 678, in exec_module\n",
      "  File \"<frozen importlib._bootstrap>\", line 205, in _call_with_frames_removed\n",
      "  File \"C:\\Users\\nicol\\Anaconda3\\lib\\site-packages\\numpy\\matrixlib\\__init__.py\", line 8, in <module>\n",
      "    __all__ = defmatrix.__all__\n",
      "NameError: name 'defmatrix' is not defined\n",
      "]\n",
      "[autoreload of numpy.lib.scimath failed: Traceback (most recent call last):\n",
      "  File \"C:\\Users\\nicol\\Anaconda3\\lib\\site-packages\\IPython\\extensions\\autoreload.py\", line 246, in check\n",
      "    superreload(m, reload, self.old_objects)\n",
      "  File \"C:\\Users\\nicol\\Anaconda3\\lib\\site-packages\\IPython\\extensions\\autoreload.py\", line 369, in superreload\n",
      "    module = reload(module)\n",
      "  File \"C:\\Users\\nicol\\Anaconda3\\lib\\imp.py\", line 314, in reload\n",
      "    return importlib.reload(module)\n",
      "  File \"C:\\Users\\nicol\\Anaconda3\\lib\\importlib\\__init__.py\", line 166, in reload\n",
      "    _bootstrap._exec(spec, module)\n",
      "  File \"<frozen importlib._bootstrap>\", line 608, in _exec\n",
      "  File \"<frozen importlib._bootstrap_external>\", line 678, in exec_module\n",
      "  File \"<frozen importlib._bootstrap>\", line 205, in _call_with_frames_removed\n",
      "  File \"C:\\Users\\nicol\\Anaconda3\\lib\\site-packages\\numpy\\lib\\scimath.py\", line 21, in <module>\n",
      "    import numpy.core.numerictypes as nt\n",
      "AttributeError: module 'numpy.core' has no attribute 'numerictypes'\n",
      "]\n",
      "[autoreload of numpy.polynomial.polynomial failed: Traceback (most recent call last):\n",
      "  File \"C:\\Users\\nicol\\Anaconda3\\lib\\site-packages\\IPython\\extensions\\autoreload.py\", line 246, in check\n",
      "    superreload(m, reload, self.old_objects)\n",
      "  File \"C:\\Users\\nicol\\Anaconda3\\lib\\site-packages\\IPython\\extensions\\autoreload.py\", line 385, in superreload\n",
      "    update_generic(old_obj, new_obj)\n",
      "  File \"C:\\Users\\nicol\\Anaconda3\\lib\\site-packages\\IPython\\extensions\\autoreload.py\", line 324, in update_generic\n",
      "    update(a, b)\n",
      "  File \"C:\\Users\\nicol\\Anaconda3\\lib\\site-packages\\IPython\\extensions\\autoreload.py\", line 279, in update_class\n",
      "    if old_obj == new_obj:\n",
      "ValueError: The truth value of an array with more than one element is ambiguous. Use a.any() or a.all()\n",
      "]\n",
      "[autoreload of numpy.polynomial.chebyshev failed: Traceback (most recent call last):\n",
      "  File \"C:\\Users\\nicol\\Anaconda3\\lib\\site-packages\\IPython\\extensions\\autoreload.py\", line 246, in check\n",
      "    superreload(m, reload, self.old_objects)\n",
      "  File \"C:\\Users\\nicol\\Anaconda3\\lib\\site-packages\\IPython\\extensions\\autoreload.py\", line 385, in superreload\n",
      "    update_generic(old_obj, new_obj)\n",
      "  File \"C:\\Users\\nicol\\Anaconda3\\lib\\site-packages\\IPython\\extensions\\autoreload.py\", line 324, in update_generic\n",
      "    update(a, b)\n",
      "  File \"C:\\Users\\nicol\\Anaconda3\\lib\\site-packages\\IPython\\extensions\\autoreload.py\", line 279, in update_class\n",
      "    if old_obj == new_obj:\n",
      "ValueError: The truth value of an array with more than one element is ambiguous. Use a.any() or a.all()\n",
      "]\n",
      "[autoreload of numpy.polynomial.legendre failed: Traceback (most recent call last):\n",
      "  File \"C:\\Users\\nicol\\Anaconda3\\lib\\site-packages\\IPython\\extensions\\autoreload.py\", line 246, in check\n",
      "    superreload(m, reload, self.old_objects)\n",
      "  File \"C:\\Users\\nicol\\Anaconda3\\lib\\site-packages\\IPython\\extensions\\autoreload.py\", line 385, in superreload\n",
      "    update_generic(old_obj, new_obj)\n",
      "  File \"C:\\Users\\nicol\\Anaconda3\\lib\\site-packages\\IPython\\extensions\\autoreload.py\", line 324, in update_generic\n",
      "    update(a, b)\n",
      "  File \"C:\\Users\\nicol\\Anaconda3\\lib\\site-packages\\IPython\\extensions\\autoreload.py\", line 279, in update_class\n",
      "    if old_obj == new_obj:\n",
      "ValueError: The truth value of an array with more than one element is ambiguous. Use a.any() or a.all()\n",
      "]\n",
      "[autoreload of numpy.polynomial.hermite failed: Traceback (most recent call last):\n",
      "  File \"C:\\Users\\nicol\\Anaconda3\\lib\\site-packages\\IPython\\extensions\\autoreload.py\", line 246, in check\n",
      "    superreload(m, reload, self.old_objects)\n",
      "  File \"C:\\Users\\nicol\\Anaconda3\\lib\\site-packages\\IPython\\extensions\\autoreload.py\", line 385, in superreload\n",
      "    update_generic(old_obj, new_obj)\n",
      "  File \"C:\\Users\\nicol\\Anaconda3\\lib\\site-packages\\IPython\\extensions\\autoreload.py\", line 324, in update_generic\n",
      "    update(a, b)\n",
      "  File \"C:\\Users\\nicol\\Anaconda3\\lib\\site-packages\\IPython\\extensions\\autoreload.py\", line 279, in update_class\n",
      "    if old_obj == new_obj:\n",
      "ValueError: The truth value of an array with more than one element is ambiguous. Use a.any() or a.all()\n",
      "]\n",
      "[autoreload of numpy.polynomial.hermite_e failed: Traceback (most recent call last):\n",
      "  File \"C:\\Users\\nicol\\Anaconda3\\lib\\site-packages\\IPython\\extensions\\autoreload.py\", line 246, in check\n",
      "    superreload(m, reload, self.old_objects)\n",
      "  File \"C:\\Users\\nicol\\Anaconda3\\lib\\site-packages\\IPython\\extensions\\autoreload.py\", line 385, in superreload\n",
      "    update_generic(old_obj, new_obj)\n",
      "  File \"C:\\Users\\nicol\\Anaconda3\\lib\\site-packages\\IPython\\extensions\\autoreload.py\", line 324, in update_generic\n",
      "    update(a, b)\n",
      "  File \"C:\\Users\\nicol\\Anaconda3\\lib\\site-packages\\IPython\\extensions\\autoreload.py\", line 279, in update_class\n",
      "    if old_obj == new_obj:\n",
      "ValueError: The truth value of an array with more than one element is ambiguous. Use a.any() or a.all()\n",
      "]\n"
     ]
    },
    {
     "name": "stderr",
     "output_type": "stream",
     "text": [
      "[autoreload of numpy.polynomial.laguerre failed: Traceback (most recent call last):\n",
      "  File \"C:\\Users\\nicol\\Anaconda3\\lib\\site-packages\\IPython\\extensions\\autoreload.py\", line 246, in check\n",
      "    superreload(m, reload, self.old_objects)\n",
      "  File \"C:\\Users\\nicol\\Anaconda3\\lib\\site-packages\\IPython\\extensions\\autoreload.py\", line 385, in superreload\n",
      "    update_generic(old_obj, new_obj)\n",
      "  File \"C:\\Users\\nicol\\Anaconda3\\lib\\site-packages\\IPython\\extensions\\autoreload.py\", line 324, in update_generic\n",
      "    update(a, b)\n",
      "  File \"C:\\Users\\nicol\\Anaconda3\\lib\\site-packages\\IPython\\extensions\\autoreload.py\", line 279, in update_class\n",
      "    if old_obj == new_obj:\n",
      "ValueError: The truth value of an array with more than one element is ambiguous. Use a.any() or a.all()\n",
      "]\n",
      "[autoreload of numpy.ma.core failed: Traceback (most recent call last):\n",
      "  File \"C:\\Users\\nicol\\Anaconda3\\lib\\site-packages\\IPython\\extensions\\autoreload.py\", line 246, in check\n",
      "    superreload(m, reload, self.old_objects)\n",
      "  File \"C:\\Users\\nicol\\Anaconda3\\lib\\site-packages\\IPython\\extensions\\autoreload.py\", line 369, in superreload\n",
      "    module = reload(module)\n",
      "  File \"C:\\Users\\nicol\\Anaconda3\\lib\\imp.py\", line 314, in reload\n",
      "    return importlib.reload(module)\n",
      "  File \"C:\\Users\\nicol\\Anaconda3\\lib\\importlib\\__init__.py\", line 166, in reload\n",
      "    _bootstrap._exec(spec, module)\n",
      "  File \"<frozen importlib._bootstrap>\", line 608, in _exec\n",
      "  File \"<frozen importlib._bootstrap_external>\", line 678, in exec_module\n",
      "  File \"<frozen importlib._bootstrap>\", line 205, in _call_with_frames_removed\n",
      "  File \"C:\\Users\\nicol\\Anaconda3\\lib\\site-packages\\numpy\\ma\\core.py\", line 37, in <module>\n",
      "    import numpy.core.numerictypes as ntypes\n",
      "AttributeError: module 'numpy.core' has no attribute 'numerictypes'\n",
      "]\n"
     ]
    },
    {
     "data": {
      "image/png": "[encoded data removed]",
      "text/plain": [
       "<matplotlib.figure.Figure at 0x15dd8269b38>"
      ]
     },
     "metadata": {},
     "output_type": "display_data"
    }
   ],
   "source": [
    "# Plot the results\n",
    "plt.errorbar(np.array(degrees), acc_tr.mean(axis=1), acc_tr.std(axis=1))\n",
    "plt.errorbar(np.array(degrees), acc_te.mean(axis=1), acc_te.std(axis=1))\n",
    "plt.legend([\"Training\", \"Testing\"], loc=2)\n",
    "plt.xlabel(\"Degree of polynomial feature\")\n",
    "plt.ylabel(\"Accuracy\")\n",
    "plt.title(\"{}-fold cross validation\".format(k_fold))\n",
    "plt.grid()\n",
    "\n",
    "plt.savefig(\"figures/5fold_CV_seed3.pdf\")"
   ]
  },
  {
   "cell_type": "markdown",
   "metadata": {},
   "source": [
    "# Predict the Kaggle labels\n",
    "Try to predicts the labels of the test set, then create a submission to be posted on Kaggle."
   ]
  },
  {
   "cell_type": "markdown",
   "metadata": {},
   "source": [
    "## Send the test set into the same space as the train set\n",
    "In order to use the same weight, we need to send the testing data into the same space as the during the training (i.e. normalization, centering, PCA, etc.)."
   ]
  },
  {
   "cell_type": "code",
   "execution_count": 199,
   "metadata": {},
   "outputs": [
    {
     "name": "stdout",
     "output_type": "stream",
     "text": [
      "(568238, 411)\n"
     ]
    }
   ],
   "source": [
    "# Create a boolean mask with False at missing values\n",
    "x_test_mask = (np.delete(x_test, 22, axis=1) != -999.0)\n",
    "\n",
    "# Build polynomial features\n",
    "x_kaggle = build_poly(np.delete(x_test, 22, axis=1), degree)\n",
    "# Normalize and center the data (+ keep the \"1's\" column)\n",
    "x_kaggle = np.c_[x_kaggle[:,0], (x_kaggle[:,1:] - x_mean) / x_std]\n",
    "\n",
    "# Set to 0 (the mean) the missing values\n",
    "x_kaggle_mask = np.c_[np.ones(x_kaggle.shape[0], dtype=bool), x_test_mask]\n",
    "for i in range(degree-1):\n",
    "    x_kaggle_mask = np.c_[x_kaggle_mask, x_test_mask]\n",
    "x_kaggle[np.invert(x_kaggle_mask)] = 0.\n",
    "\n",
    "# Boolean features\n",
    "x_kaggle = np.c_[x_kaggle, x_test[:,0] == -999, x_test[:,22] == 1, x_test[:,22] == 2 , x_test[:,22] == 3]\n",
    "print(x_kaggle.shape)"
   ]
  },
  {
   "cell_type": "markdown",
   "metadata": {},
   "source": [
    "## Predict the labels, and create a submission"
   ]
  },
  {
   "cell_type": "code",
   "execution_count": 200,
   "metadata": {
    "collapsed": true
   },
   "outputs": [],
   "source": [
    "# Predict the labels\n",
    "y_pred = predict_labels(w, x_kaggle)\n",
    "\n",
    "# Create a sumbission file to be uploaded to the Kaggle competition\n",
    "create_csv_submission(ids_test, y_pred, \"nico_LS_poly14.csv\")"
   ]
  }
 ],
 "metadata": {
  "kernelspec": {
   "display_name": "Python 3",
   "language": "python",
   "name": "python3"
  },
  "language_info": {
   "codemirror_mode": {
    "name": "ipython",
    "version": 3
   },
   "file_extension": ".py",
   "mimetype": "text/x-python",
   "name": "python",
   "nbconvert_exporter": "python",
   "pygments_lexer": "ipython3",
   "version": "3.6.0"
  }
 },
 "nbformat": 4,
 "nbformat_minor": 2
}
