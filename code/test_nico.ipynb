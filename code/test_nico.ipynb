{
 "cells": [
  {
   "cell_type": "code",
   "execution_count": 1,
   "metadata": {},
   "outputs": [],
   "source": [
    "# Useful starting lines\n",
    "%matplotlib inline\n",
    "import numpy as np\n",
    "import matplotlib.pyplot as plt\n",
    "%load_ext autoreload\n",
    "%autoreload 2"
   ]
  },
  {
   "cell_type": "markdown",
   "metadata": {},
   "source": [
    "# Import the data"
   ]
  },
  {
   "cell_type": "code",
   "execution_count": 2,
   "metadata": {
    "collapsed": true
   },
   "outputs": [],
   "source": [
    "from utilities.proj1_helpers import *"
   ]
  },
  {
   "cell_type": "code",
   "execution_count": 3,
   "metadata": {},
   "outputs": [
    {
     "name": "stdout",
     "output_type": "stream",
     "text": [
      "(250000,) (250000, 30) (250000,)\n"
     ]
    }
   ],
   "source": [
    "train_data = load_csv_data(\"data/train.csv\")\n",
    "y_train, x_train, ids_train = train_data[0], train_data[1], train_data[2]\n",
    "N, D = x_train.shape\n",
    "print(y_train.shape, x_train.shape, ids_train.shape)"
   ]
  },
  {
   "cell_type": "code",
   "execution_count": 4,
   "metadata": {},
   "outputs": [
    {
     "name": "stdout",
     "output_type": "stream",
     "text": [
      "(568238,) (568238, 30) (568238,)\n"
     ]
    }
   ],
   "source": [
    "test_data = load_csv_data(\"data/test.csv\")\n",
    "y_test, x_test, ids_test = test_data[0], test_data[1], test_data[2]\n",
    "print(y_test.shape, x_test.shape, ids_test.shape)"
   ]
  },
  {
   "cell_type": "code",
   "execution_count": 5,
   "metadata": {
    "collapsed": true
   },
   "outputs": [],
   "source": [
    "from utilities.implementations import *\n",
    "from utilities.cross_validation import cross_validation, build_k_indices, split_data\n",
    "#from utilities.pca import compute_pca\n",
    "from utilities.preprocessing import standard_scaler"
   ]
  },
  {
   "cell_type": "markdown",
   "metadata": {},
   "source": [
    "# Pre-process it"
   ]
  },
  {
   "cell_type": "markdown",
   "metadata": {},
   "source": [
    "## Take care of missing values\n",
    "Too many samples have at least one missing values (around 73%), we have to replace them with the mean (which will be 0 after normalization)."
   ]
  },
  {
   "cell_type": "code",
   "execution_count": 6,
   "metadata": {
    "scrolled": true
   },
   "outputs": [
    {
     "name": "stdout",
     "output_type": "stream",
     "text": [
      "181886 / 250000 = 72.7544 % of samples with missing values\n"
     ]
    }
   ],
   "source": [
    "# Count the number of samples with missing values\n",
    "count = 0\n",
    "for i in range(len(x_train)):\n",
    "    if -999.0 in x_train[i,:]:\n",
    "        count += 1\n",
    "        \n",
    "print(count, \"/\", len(x_train), \"=\", count/len(x_train)*100, \"% of samples with missing values\")"
   ]
  },
  {
   "cell_type": "code",
   "execution_count": 30,
   "metadata": {
    "collapsed": true
   },
   "outputs": [],
   "source": [
    "def standardize_missing(x_train, x_train_missing):\n",
    "    \"\"\" Standardize the data and set the missing values to 0(=the mean) \"\"\"\n",
    "    # Normalize and center the data considering ONLY the correct values\n",
    "    x_train_mean = np.zeros(x_train.shape[1])\n",
    "    x_train_std  = np.zeros(x_train.shape[1])\n",
    "    # Create a boolean mask with False at missing values\n",
    "    x_train_mask = x_train_missing\n",
    "\n",
    "    # Loop on the features, compute the mean/std without the missing values\n",
    "    for i in range(x_train.shape[1]):\n",
    "        feature_values = x_train[x_train_mask[:, i], i]\n",
    "        x_train_mean[i] = feature_values.mean()\n",
    "        x_train_std[i]  = feature_values.std()\n",
    "\n",
    "    # Normalize and center the data\n",
    "    x = (x_train - x_train_mean) / x_train_std\n",
    "    # Set the missing values to 0 (= the mean)\n",
    "    x[np.invert(x_train_mask)] = 0.\n",
    "    return x, x_train_mean, x_train_std"
   ]
  },
  {
   "cell_type": "code",
   "execution_count": 29,
   "metadata": {},
   "outputs": [
    {
     "name": "stdout",
     "output_type": "stream",
     "text": [
      "(250000, 30) (30,) (30,)\n"
     ]
    }
   ],
   "source": [
    "x, x_train_mean, x_train_std = standardize_missing(x_train, x_train!=-999.)\n",
    "print(x.shape, x_train_mean.shape, x_train_std.shape)"
   ]
  },
  {
   "cell_type": "markdown",
   "metadata": {},
   "source": [
    "## PCA\n",
    "In order to reduce the dimensionality and decorrelate the data."
   ]
  },
  {
   "cell_type": "code",
   "execution_count": 8,
   "metadata": {
    "collapsed": true
   },
   "outputs": [],
   "source": [
    "def compute_pca(x, number_pc=-1):\n",
    "    N, D = np.shape(x)\n",
    "\n",
    "    # Center the data\n",
    "    g = np.mean(x, axis=0) # center of mass\n",
    "    x_c = x - g\n",
    "    \n",
    "    # Spectral analysis\n",
    "    Sigma = x_c.T.dot(x_c)\n",
    "    values, vectors = np.linalg.eig(Sigma)\n",
    "    idx = values.argsort()[::-1] # eigenvalues and eigenvectors sorted together in decreasing order\n",
    "    values = values[idx]\n",
    "    vectors = vectors[:, idx]\n",
    "    \n",
    "    # Selecting the principal components\n",
    "    if number_pc < 0:\n",
    "        rank = np.sum(values)\n",
    "        sum_values = values[0]\n",
    "        number_pc = 1\n",
    "        #print(sum_values/rank) #### PRINT HERE\n",
    "        while sum_values/rank < 0.95: # We want 95% of the variance explained\n",
    "            sum_values += values[number_pc]\n",
    "            number_pc += 1\n",
    "            #print(sum_values/rank) #### PRINT HERE\n",
    "    pc = x_c.dot(vectors[:, :number_pc])\n",
    "    return pc, vectors[:, :number_pc]"
   ]
  },
  {
   "cell_type": "code",
   "execution_count": 9,
   "metadata": {},
   "outputs": [
    {
     "name": "stdout",
     "output_type": "stream",
     "text": [
      "(250000, 30) \n",
      " (30, 30)\n"
     ]
    }
   ],
   "source": [
    "x_pc, eigenvectors = compute_pca(x, x.shape[1])\n",
    "print(x_pc.shape, \"\\n\", eigenvectors.shape)"
   ]
  },
  {
   "cell_type": "markdown",
   "metadata": {},
   "source": [
    "## Plot the data\n",
    "Plot the data in 3D (along 3 arbitrary axis), blue is for the signal, and red for the background."
   ]
  },
  {
   "cell_type": "code",
   "execution_count": 10,
   "metadata": {},
   "outputs": [
    {
     "data": {
      "image/png": "[encoded data removed]",
      "text/plain": [
       "<matplotlib.figure.Figure at 0x1e519beed68>"
      ]
     },
     "metadata": {},
     "output_type": "display_data"
    }
   ],
   "source": [
    "import matplotlib.pyplot as plt\n",
    "from mpl_toolkits.mplot3d import Axes3D\n",
    "\n",
    "# Subsamples\n",
    "x_sub = x[::1000] # x to have original data (normalized and centered), and x_pc to use the data after the PCA\n",
    "y_sub = y_train[::1000]\n",
    "\n",
    "y_color = ['blue' if y_sub[i] > 0. else 'red' for i in range(len(y_sub))]\n",
    "\n",
    "fig = plt.figure()\n",
    "ax = fig.add_subplot(111, projection='3d')\n",
    "ax.scatter3D(x_sub[:, 1], x_sub[:, 2], x_sub[:, 11], c=y_color) # change the numbers to have different plotting axis\n",
    "ax.set_xlabel(\"x\")\n",
    "ax.set_ylabel(\"y\")\n",
    "ax.set_zlabel(\"z\")\n",
    "plt.show()"
   ]
  },
  {
   "cell_type": "markdown",
   "metadata": {},
   "source": [
    "## Build polynomial features\n",
    "Build polynomial features, and a column of 1s at the beginning."
   ]
  },
  {
   "cell_type": "code",
   "execution_count": 11,
   "metadata": {
    "collapsed": true
   },
   "outputs": [],
   "source": [
    "def build_poly(x, d=1):\n",
    "    \"\"\" Build polynomial features out of the given data, up to degree 'd' >= 1 \"\"\"\n",
    "    # At least degree 1\n",
    "    if d < 1:\n",
    "        d = 1\n",
    "    \n",
    "    tx = np.ones(x.shape[0])\n",
    "    for i in range(d):\n",
    "        tx = np.c_[tx, x**(i+1)]\n",
    "    return tx"
   ]
  },
  {
   "cell_type": "code",
   "execution_count": 12,
   "metadata": {
    "collapsed": true
   },
   "outputs": [],
   "source": [
    "degree = 3\n",
    "# Choose here if you want the original data (x), or after PCA (x_pc)\n",
    "tx = build_poly(x, degree)\n",
    "#tx = np.c_[tx[:,0], standard_scaler(tx[:, 1:])]"
   ]
  },
  {
   "cell_type": "markdown",
   "metadata": {},
   "source": [
    "## Pre-processing function\n",
    "Build polynomial features + standardize and take care of missing values"
   ]
  },
  {
   "cell_type": "code",
   "execution_count": 43,
   "metadata": {
    "collapsed": true
   },
   "outputs": [],
   "source": [
    "def preprocess_data(x_train, degree=1, missing_value=-999.):\n",
    "    # Build polynomial features\n",
    "    x = build_poly(x_train, degree)\n",
    "    \n",
    "    # Create a mask for the missing values (=False)\n",
    "    x_train_mask = (x_train != -999.)\n",
    "    x_mask = x_train_mask\n",
    "    for i in range(degree-1):\n",
    "        x_mask = np.c_[x_mask, x_train_mask]\n",
    "    \n",
    "    # Standardize the features, and set the missing values to 0(=the mean)\n",
    "    tx, x_mean, x_std = standardize_missing(x[:,1:], x_mask)\n",
    "    tx = np.c_[np.ones(x.shape[0]), tx]\n",
    "    \n",
    "    return tx, x_train_mean, x_train_std"
   ]
  },
  {
   "cell_type": "markdown",
   "metadata": {},
   "source": [
    "# Learn a model"
   ]
  },
  {
   "cell_type": "code",
   "execution_count": 13,
   "metadata": {
    "collapsed": true
   },
   "outputs": [],
   "source": [
    "def accuracy(y, x, w):\n",
    "    \"\"\" Compute the accuracy of the classification \"\"\"\n",
    "    y_pred = predict_labels(w, x)\n",
    "    return 1. - np.sum(np.absolute(y - y_pred)) / 2. / y.shape[0]"
   ]
  },
  {
   "cell_type": "markdown",
   "metadata": {},
   "source": [
    "## Split the data\n",
    "Split the data into train and validation set. We first learn the model on the train set, and then test it on the validation set.\n",
    "\n",
    "The ration gives the percent of the data going to train (ratio = 0.8 means 80% for training and 20% for validating)."
   ]
  },
  {
   "cell_type": "code",
   "execution_count": 20,
   "metadata": {},
   "outputs": [
    {
     "name": "stdout",
     "output_type": "stream",
     "text": [
      "(250000, 61)\n",
      "(165000, 61) (85000, 61) \n",
      " 66.0 % of training\n"
     ]
    }
   ],
   "source": [
    "seed = 1\n",
    "degree = 2\n",
    "ratio = 0.66\n",
    "\n",
    "tx, x_mean, x_std = preprocess_data(x_train, degree)\n",
    "print(tx.shape)\n",
    "\n",
    "x_tr, y_tr, x_te, y_te = split_data(tx, y_train, ratio, seed)\n",
    "print(x_tr.shape, x_te.shape, \"\\n\", x_tr.shape[0] / (x_tr.shape[0]+x_te.shape[0])*100, \"% of training\")"
   ]
  },
  {
   "cell_type": "markdown",
   "metadata": {},
   "source": [
    "## Weight and loss\n",
    "Compute here the weight and the resulting loss of the chosen model."
   ]
  },
  {
   "cell_type": "code",
   "execution_count": 41,
   "metadata": {
    "scrolled": true
   },
   "outputs": [
    {
     "name": "stdout",
     "output_type": "stream",
     "text": [
      "Stochastic Gradient Descent(0/9999): loss=114369.28479239097, w0=-0.026081, w1=0.0008210225040278069\n",
      "Stochastic Gradient Descent(100/9999): loss=81359.01278788096, w0=-0.7796904773309011, w1=0.0889918192266302\n",
      "Stochastic Gradient Descent(200/9999): loss=79436.96655269076, w0=-0.8632076511199942, w1=0.15669845619706482\n",
      "Stochastic Gradient Descent(300/9999): loss=78359.991166155, w0=-0.8927484442398511, w1=0.22484540669509637\n",
      "Stochastic Gradient Descent(400/9999): loss=77671.85751991547, w0=-0.9152816379163942, w1=0.2943271828874358\n",
      "Stochastic Gradient Descent(500/9999): loss=77180.1140116415, w0=-0.9340436819935245, w1=0.3626380316182268\n",
      "Stochastic Gradient Descent(600/9999): loss=76799.27559635151, w0=-0.9498880542259336, w1=0.42835527277891\n",
      "Stochastic Gradient Descent(700/9999): loss=76489.20029791597, w0=-0.9636662134739145, w1=0.4910163833872005\n",
      "Stochastic Gradient Descent(800/9999): loss=76228.06127622574, w0=-0.9759429819811813, w1=0.5505704921756918\n",
      "Stochastic Gradient Descent(900/9999): loss=76002.70128432664, w0=-0.9870727490110773, w1=0.6071263405314596\n",
      "Stochastic Gradient Descent(1000/9999): loss=75804.6287574366, w0=-0.9972930278602077, w1=0.6608574111426402\n",
      "Stochastic Gradient Descent(1100/9999): loss=75628.07936371441, w0=-1.00677305077698, w1=0.7119597779653893\n",
      "Stochastic Gradient Descent(1200/9999): loss=75468.97513534734, w0=-1.015638258091654, w1=0.7606309633467572\n",
      "Stochastic Gradient Descent(1300/9999): loss=75324.32773602952, w0=-1.0239840962880657, w1=0.8070598812859554\n",
      "Stochastic Gradient Descent(1400/9999): loss=75191.87994226166, w0=-1.0318846029613145, w1=0.8514225095445551\n",
      "Stochastic Gradient Descent(1500/9999): loss=75069.88191582626, w0=-1.0393981647564865, w1=0.8938804300906933\n",
      "Stochastic Gradient Descent(1600/9999): loss=74956.9468605272, w0=-1.046571536838186, w1=0.9345808166749127\n",
      "Stochastic Gradient Descent(1700/9999): loss=74851.95498335168, w0=-1.0534426995768515, w1=0.9736571357880747\n",
      "Stochastic Gradient Descent(1800/9999): loss=74753.98770170673, w0=-1.0600429133456062, w1=1.0112301595297852\n",
      "Stochastic Gradient Descent(1900/9999): loss=74662.28130525592, w0=-1.0663982175338589, w1=1.0474090748516345\n",
      "Stochastic Gradient Descent(2000/9999): loss=74576.19346631187, w0=-1.072530542891696, w1=1.0822925840943625\n",
      "Stochastic Gradient Descent(2100/9999): loss=74495.17846348416, w0=-1.078458550893311, w1=1.115969951758271\n",
      "Stochastic Gradient Descent(2200/9999): loss=74418.76847125133, w0=-1.0841982755329955, w1=1.1485219799912973\n",
      "Stochastic Gradient Descent(2300/9999): loss=74346.55917989272, w0=-1.0897636184091624, w1=1.180021905935077\n",
      "Stochastic Gradient Descent(2400/9999): loss=74278.19857868389, w0=-1.095166732928296, w1=1.2105362182474106\n",
      "Stochastic Gradient Descent(2500/9999): loss=74213.37809682282, w0=-1.1004183241134797, w1=1.240125392716246\n",
      "Stochastic Gradient Descent(2600/9999): loss=74151.82553199567, w0=-1.105527884183318, w1=1.2688445492535505\n",
      "Stochastic Gradient Descent(2700/9999): loss=74093.29935386886, w0=-1.110503879363128, w1=1.2967440346341716\n",
      "Stochastic Gradient Descent(2800/9999): loss=74037.58407782398, w0=-1.1153538996916532, w1=1.3238699368344073\n",
      "Stochastic Gradient Descent(2900/9999): loss=73984.48648027236, w0=-1.1200847806577539, w1=1.3502645376243283\n",
      "Stochastic Gradient Descent(3000/9999): loss=73933.83248156286, w0=-1.1247027032261052, w1=1.3759667102630475\n",
      "Stochastic Gradient Descent(3100/9999): loss=73885.46456255595, w0=-1.1292132770894812, w1=1.4010122689086526\n",
      "Stochastic Gradient Descent(3200/9999): loss=73839.2396107463, w0=-1.1336216107141144, w1=1.425434275858129\n",
      "Stochastic Gradient Descent(3300/9999): loss=73795.02711429168, w0=-1.1379323708234215, w1=1.449263312114016\n",
      "Stochastic Gradient Descent(3400/9999): loss=73752.70763944284, w0=-1.1421498333051052, w1=1.472527716125809\n",
      "Stochastic Gradient Descent(3500/9999): loss=73712.17154006523, w0=-1.1462779270553327, w1=1.4952537949295661\n",
      "Stochastic Gradient Descent(3600/9999): loss=73673.31785819384, w0=-1.1503202719360273, w1=1.517466011336544\n",
      "Stochastic Gradient Descent(3700/9999): loss=73636.05338258632, w0=-1.154280211776875, w1=1.5391871503118533\n",
      "Stochastic Gradient Descent(3800/9999): loss=73600.29183856351, w0=-1.1581608431736716, w1=1.5604384672386686\n",
      "Stochastic Gradient Descent(3900/9999): loss=73565.95318744097, w0=-1.1619650406992335, w1=1.5812398203785165\n",
      "Stochastic Gradient Descent(4000/9999): loss=73532.96301785382, w0=-1.1656954790386762, w1=1.6016097895082968\n",
      "Stochastic Gradient Descent(4100/9999): loss=73501.25201447826, w0=-1.1693546524784308, w1=1.6215657824331908\n",
      "Stochastic Gradient Descent(4200/9999): loss=73470.75549223118, w0=-1.1729448921117067, w1=1.6411241308353082\n",
      "Stochastic Gradient Descent(4300/9999): loss=73441.41298610787, w0=-1.1764683810683887, w1=1.6603001767149255\n",
      "Stochastic Gradient Descent(4400/9999): loss=73413.16788850573, w0=-1.1799271680316594, w1=1.679108350509075\n",
      "Stochastic Gradient Descent(4500/9999): loss=73385.96712725157, w0=-1.1833231792652648, w1=1.697562241826402\n",
      "Stochastic Gradient Descent(4600/9999): loss=73359.7608786703, w0=-1.1866582293428183, w1=1.7156746636135556\n",
      "Stochastic Gradient Descent(4700/9999): loss=73334.50231094749, w0=-1.1899340307430093, w1=1.7334577104632716\n",
      "Stochastic Gradient Descent(4800/9999): loss=73310.14735379088, w0=-1.1931522024511585, w1=1.750922811684905\n",
      "Stochastic Gradient Descent(4900/9999): loss=73286.65449101567, w0=-1.196314277687694, w1=1.7680807796817575\n",
      "Stochastic Gradient Descent(5000/9999): loss=73263.9845731905, w0=-1.1994217108672378, w1=1.784941854114117\n",
      "Stochastic Gradient Descent(5100/9999): loss=73242.10064790575, w0=-1.202475883877698, w1=1.8015157422706807\n",
      "Stochastic Gradient Descent(5200/9999): loss=73220.9678055803, w0=-1.2054781117565752, w1=1.817811656022411\n",
      "Stochastic Gradient Descent(5300/9999): loss=73200.55303901737, w0=-1.2084296478314411, w1=1.8338383456908292\n",
      "Stochastic Gradient Descent(5400/9999): loss=73180.8251151688, w0=-1.2113316883827385, w1=1.8496041311260758\n",
      "Stochastic Gradient Descent(5500/9999): loss=73161.75445777489, w0=-1.2141853768796558, w1=1.8651169302581276\n",
      "Stochastic Gradient Descent(5600/9999): loss=73143.31303972297, w0=-1.2169918078334518, w1=1.8803842853564856\n",
      "Stochastic Gradient Descent(5700/9999): loss=73125.47428411766, w0=-1.2197520303072085, w1=1.8954133872090542\n",
      "Stochastic Gradient Descent(5800/9999): loss=73108.21297318154, w0=-1.2224670511163453, w1=1.9102110974091886\n",
      "Stochastic Gradient Descent(5900/9999): loss=73091.50516421441, w0=-1.2251378377502355, w1=1.9247839689206667\n",
      "Stochastic Gradient Descent(6000/9999): loss=73075.32811193097, w0=-1.2277653210418176, w1=1.9391382650733506\n",
      "Stochastic Gradient Descent(6100/9999): loss=73059.66019657726, w0=-1.230350397609131, w1=1.9532799771271578\n",
      "Stochastic Gradient Descent(6200/9999): loss=73044.4808572945, w0=-1.2328939320900967, w1=1.9672148405285244\n",
      "Stochastic Gradient Descent(6300/9999): loss=73029.77053025823, w0=-1.2353967591896189, w1=1.9809483499715117\n",
      "Stochastic Gradient Descent(6400/9999): loss=73015.51059117322, w0=-1.2378596855561053, w1=1.9944857733650285\n",
      "Stochastic Gradient Descent(6500/9999): loss=73001.68330174811, w0=-1.2402834915027576, w1=2.0078321647980095\n",
      "Stochastic Gradient Descent(6600/9999): loss=72988.27175981423, w0=-1.2426689325874627, w1=2.020992376585812\n",
      "Stochastic Gradient Descent(6700/9999): loss=72975.25985278725, w0=-1.2450167410637747, w1=2.0339710704733838\n",
      "Stochastic Gradient Descent(6800/9999): loss=72962.63221419958, w0=-1.2473276272142575, w1=2.046772728063795\n",
      "Stochastic Gradient Descent(6900/9999): loss=72950.37418305958, w0=-1.2496022805764284, w1=2.0594016605345122\n",
      "Stochastic Gradient Descent(7000/9999): loss=72938.47176581601, w0=-1.2518413710705643, w1=2.0718620176981513\n",
      "Stochastic Gradient Descent(7100/9999): loss=72926.91160072757, w0=-1.2540455500378231, w1=2.084157796459372\n",
      "Stochastic Gradient Descent(7200/9999): loss=72915.68092445578, w0=-1.2562154511963655, w1=2.0962928487150205\n",
      "Stochastic Gradient Descent(7300/9999): loss=72904.76754071612, w0=-1.2583516915224957, w1=2.108270888740447\n",
      "Stochastic Gradient Descent(7400/9999): loss=72894.15979083683, w0=-1.2604548720632338, w1=2.120095500101197\n",
      "Stochastic Gradient Descent(7500/9999): loss=72883.84652608827, w0=-1.2625255786861969, w1=2.1317701421258834\n"
     ]
    },
    {
     "name": "stdout",
     "output_type": "stream",
     "text": [
      "Stochastic Gradient Descent(7600/9999): loss=72873.8170816574, w0=-1.2645643827721862, w1=2.143298155972967\n",
      "Stochastic Gradient Descent(7700/9999): loss=72864.06125215281, w0=-1.2665718418554184, w1=2.1546827703213585\n",
      "Stochastic Gradient Descent(7800/9999): loss=72854.56926853479, w0=-1.2685485002159702, w1=2.1659271067122767\n",
      "Stochastic Gradient Descent(7900/9999): loss=72845.33177637454, w0=-1.270494889428619, w1=2.1770341845674603\n",
      "Stochastic Gradient Descent(8000/9999): loss=72836.33981535347, w0=-1.2724115288719482, w1=2.1880069259067203\n",
      "Stochastic Gradient Descent(8100/9999): loss=72827.58479992104, w0=-1.2742989262012807, w1=2.1988481597860194\n",
      "Stochastic Gradient Descent(8200/9999): loss=72819.05850103644, w0=-1.2761575777887342, w1=2.209560626475438\n",
      "Stochastic Gradient Descent(8300/9999): loss=72810.75302892427, w0=-1.2779879691333986, w1=2.220146981394885\n",
      "Stochastic Gradient Descent(8400/9999): loss=72802.66081678036, w0=-1.2797905752444678, w1=2.2306097988239975\n",
      "Stochastic Gradient Descent(8500/9999): loss=72794.77460536921, w0=-1.2815658609998444, w1=2.240951575401336\n",
      "Stochastic Gradient Descent(8600/9999): loss=72787.08742845699, w0=-1.2833142814825986, w1=2.251174733426877\n",
      "Stochastic Gradient Descent(8700/9999): loss=72779.59259903038, w0=-1.2850362822974257, w1=2.261281623980708\n",
      "Stochastic Gradient Descent(8800/9999): loss=72772.28369625362, w0=-1.2867322998690527, w1=2.271274529869837\n",
      "Stochastic Gradient Descent(8900/9999): loss=72765.1545531201, w0=-1.2884027617243965, w1=2.2811556684142373\n",
      "Stochastic Gradient Descent(9000/9999): loss=72758.19924475692, w0=-1.2900480867600554, w1=2.2909271940823706\n",
      "Stochastic Gradient Descent(9100/9999): loss=72751.41207734583, w0=-1.2916686854966026, w1=2.3005912009857497\n",
      "Stochastic Gradient Descent(9200/9999): loss=72744.78757762325, w0=-1.2932649603209456, w1=2.3101497252414274\n",
      "Stochastic Gradient Descent(9300/9999): loss=72738.32048292756, w0=-1.2948373057179166, w1=2.319604747210703\n",
      "Stochastic Gradient Descent(9400/9999): loss=72732.00573176162, w0=-1.2963861084920685, w1=2.328958193621802\n",
      "Stochastic Gradient Descent(9500/9999): loss=72725.83845484174, w0=-1.2979117479805582, w1=2.3382119395837306\n",
      "Stochastic Gradient Descent(9600/9999): loss=72719.8139666056, w0=-1.2994145962578765, w1=2.3473678104980955\n",
      "Stochastic Gradient Descent(9700/9999): loss=72713.9277571536, w0=-1.3008950183330332, w1=2.3564275838752167\n",
      "Stochastic Gradient Descent(9800/9999): loss=72708.1754845988, w0=-1.3023533723397616, w1=2.3653929910604514\n",
      "Stochastic Gradient Descent(9900/9999): loss=72702.55296780358, w0=-1.3037900097201751, w1=2.3742657188763228\n",
      "Train logistic loss = 72697.1105379\n",
      "Train Accuracy = 0.800648484848\n"
     ]
    }
   ],
   "source": [
    "## Logistic regression\n",
    "\n",
    "# y = {-1; +1} => y = {0; +1}\n",
    "y_tr_log = (y_tr + 1) / 2\n",
    "\n",
    "initial_w = np.zeros(x_tr.shape[1])\n",
    "max_iters = 10000\n",
    "gamma     = 2E-6\n",
    "\n",
    "w, loss_tr = logistic_regression(y_tr_log, x_tr, initial_w, max_iters, gamma)\n",
    "print(\"Train logistic loss =\", loss_tr)\n",
    "\n",
    "# Compute the accuracy\n",
    "accuracy_tr = accuracy(y_tr, x_tr, w)\n",
    "print(\"Train Accuracy =\", accuracy_tr)"
   ]
  },
  {
   "cell_type": "markdown",
   "metadata": {},
   "source": [
    "## Test the model\n",
    "Test the learned model on the validation set."
   ]
  },
  {
   "cell_type": "code",
   "execution_count": 40,
   "metadata": {
    "scrolled": true
   },
   "outputs": [
    {
     "name": "stdout",
     "output_type": "stream",
     "text": [
      "Test logistic loss = 37439.6925087\n",
      "Test Accuracy = 0.803564705882\n"
     ]
    }
   ],
   "source": [
    "# y = {-1; +1} => y = {0; +1}\n",
    "y_te_log = (y_te + 1) / 2\n",
    "\n",
    "loss_te = compute_logistic_loss(y_te_log, x_te, w)\n",
    "print(\"Test logistic loss =\", loss_te)\n",
    "\n",
    "# Compute the accuracy\n",
    "y_te_pred = predict_labels(w, x_te)\n",
    "accuracy_te = 1. - np.sum(np.absolute(y_te - y_te_pred)) / 2. / y_te.shape[0]\n",
    "accuracy_te = accuracy(y_te, x_te, w)\n",
    "print(\"Test Accuracy =\", accuracy_te)"
   ]
  },
  {
   "cell_type": "markdown",
   "metadata": {},
   "source": [
    "## Cross-validation\n",
    "Do k-fold cross validation on a specific set of parameter."
   ]
  },
  {
   "cell_type": "code",
   "execution_count": null,
   "metadata": {
    "collapsed": true
   },
   "outputs": [],
   "source": [
    "seed   = 1\n",
    "degree = 3\n",
    "ratio  = 0.66\n",
    "k_fold = 4\n",
    "gamma     = 1E-7\n",
    "lambda_   = 1E-2\n",
    "initial_w = np.zeros(x_tr.shape[1])\n",
    "max_iters = 1000\n",
    "\n",
    "## Build the polynomial features\n",
    "# Choose here if you want the original data (x), or after PCA (x_pc)\n",
    "tx = build_poly(x, degree)\n",
    "#tx = np.c_[tx[:,0], standard_scaler(tx[:, 1:])]\n",
    "\n",
    "## Split the data\n",
    "x_tr, y_tr, x_te, y_te = split_data(tx, y_train, ratio, seed)\n",
    "print(x_tr.shape, x_te.shape, \"\\n\", x_tr.shape[0] / (x_tr.shape[0]+x_te.shape[0])*100, \"% of training\")\n",
    "\n",
    "# split data in k fold\n",
    "k_indices = build_k_indices(y, k_fold, seed)\n",
    "# define lists to store the accuracy of training data and test data\n",
    "acc_tr = []\n",
    "acc_te = []\n",
    "\n",
    "loss_train = 0.0\n",
    "loss_test  = 0.0\n",
    "for k in range(k_fold):\n",
    "    # get k'th subgroup in test, others in train\n",
    "    x_train = x[k_indices[np.arange(len(k_indices))!=k]].ravel()\n",
    "    y_train = y[k_indices[np.arange(len(k_indices))!=k]].ravel()\n",
    "\n",
    "    x_test = x[k_indices[k]]\n",
    "    y_test = x[k_indices[k]]\n",
    "    # form data with polynomial degree\n",
    "    tx_train = build_poly(x_train, degree)\n",
    "    tx_test  = build_poly(x_test, degree)\n",
    "    # ridge regression\n",
    "    w = ridge_regression(y_train, tx_train, lambda_)\n",
    "    # calculate the loss for train and test data\n",
    "    loss_tr = np.sqrt(2.0*compute_mse(y_train, tx_train, w))\n",
    "    loss_te = np.sqrt(2.0*compute_mse(y_test, tx_test, w))\n",
    "\n",
    "    loss_train += loss_tr\n",
    "    loss_test  += loss_te\n",
    "loss_train /= k_fold\n",
    "loss_test  /= k_fold\n",
    "rmse_tr.append(loss_train)\n",
    "rmse_te.append(loss_test)"
   ]
  },
  {
   "cell_type": "markdown",
   "metadata": {},
   "source": [
    "# Predict the Kaggle labels\n",
    "Try to predicts the labels of the test set, then create a submission to be posted on Kaggle."
   ]
  },
  {
   "cell_type": "markdown",
   "metadata": {},
   "source": [
    "## Send the test set into the same space as the train set\n",
    "In order to use the same weight, we need to send the testing data into the same space as the during the training (i.e. normalization, centering, PCA, etc.)."
   ]
  },
  {
   "cell_type": "code",
   "execution_count": 35,
   "metadata": {
    "collapsed": true
   },
   "outputs": [],
   "source": [
    "# Create a boolean mask with False at missing values\n",
    "x_test_mask = (x_test != -999.0)\n",
    "\n",
    "# Normalize and center the data\n",
    "x_kaggle = (x_test - x_train_mean) / x_train_std\n",
    "# Set to 0 (the mean) the missing values\n",
    "x_kaggle[np.invert(x_test_mask)] = 0.\n",
    "\n",
    "# Send the data to PCA space\n",
    "x_kaggle_pc = x_kaggle.dot(eigenvectors)\n",
    "\n",
    "# Add a \"bias\" to the input (choose if you want the original, or PCAed data here)\n",
    "tx_kaggle = np.c_[np.ones(x_kaggle.shape[0]), x_kaggle]"
   ]
  },
  {
   "cell_type": "markdown",
   "metadata": {},
   "source": [
    "## Predict the labels, and create a submission"
   ]
  },
  {
   "cell_type": "code",
   "execution_count": 36,
   "metadata": {
    "collapsed": true
   },
   "outputs": [],
   "source": [
    "# Predict the labels\n",
    "y_pred = predict_labels(w, tx_kaggle)\n",
    "\n",
    "# Create a sumbission file to be uploaded to the Kaggle competition\n",
    "create_csv_submission(ids_test, y_pred, \"nico_log_subm.csv\")"
   ]
  }
 ],
 "metadata": {
  "kernelspec": {
   "display_name": "Python 3",
   "language": "python",
   "name": "python3"
  },
  "language_info": {
   "codemirror_mode": {
    "name": "ipython",
    "version": 3
   },
   "file_extension": ".py",
   "mimetype": "text/x-python",
   "name": "python",
   "nbconvert_exporter": "python",
   "pygments_lexer": "ipython3",
   "version": "3.6.2"
  }
 },
 "nbformat": 4,
 "nbformat_minor": 2
}
