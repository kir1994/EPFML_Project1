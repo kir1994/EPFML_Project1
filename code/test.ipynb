{
 "cells": [
  {
   "cell_type": "code",
   "execution_count": 1,
   "metadata": {
    "collapsed": true
   },
   "outputs": [],
   "source": [
    "from utilities.proj1_helpers import load_csv_data"
   ]
  },
  {
   "cell_type": "code",
   "execution_count": 2,
   "metadata": {},
   "outputs": [
    {
     "name": "stdout",
     "output_type": "stream",
     "text": [
      "(250000,) (250000, 30) (250000,)\n"
     ]
    }
   ],
   "source": [
    "train_data = load_csv_data(\"data/train.csv\")\n",
    "y, x, ids = train_data[0], train_data[1], train_data[2]\n",
    "print(y.shape, x.shape, ids.shape)"
   ]
  },
  {
   "cell_type": "code",
   "execution_count": 20,
   "metadata": {
    "collapsed": true
   },
   "outputs": [],
   "source": [
    "from regression.linear_models import *\n",
    "from utilities.cross_validation import cross_validation, build_k_indices, split_data\n",
    "from regression.loss import compute_rmse_loss"
   ]
  },
  {
   "cell_type": "code",
   "execution_count": 18,
   "metadata": {
    "collapsed": true
   },
   "outputs": [],
   "source": [
    "# Params to bruteforce\n",
    "lambdas = np.logspace(-5, 1, 10)\n",
    "degrees = np.arange(1, 8, 1)\n",
    "k_folds = 4\n",
    "seed = 1"
   ]
  },
  {
   "cell_type": "code",
   "execution_count": 12,
   "metadata": {},
   "outputs": [
    {
     "name": "stdout",
     "output_type": "stream",
     "text": [
      "l=1e-05, d=1: train 0.8242257395308643, test 0.8243877944992075\n",
      "l=4.641588833612782e-05, d=1: train 0.8242380380115651, test 0.8244000196592138\n",
      "l=0.00021544346900318823, d=1: train 0.8242948407758492, test 0.8244565765787476\n",
      "l=0.001, d=1: train 0.8245531733095092, test 0.8247138240344597\n",
      "l=0.004641588833612777, d=1: train 0.8256489777458111, test 0.825805264274013\n",
      "l=0.021544346900318822, d=1: train 0.8292422293631099, test 0.8293863985784\n",
      "l=0.1, d=1: train 0.8356038264025538, test 0.8357302552269102\n",
      "l=0.46415888336127725, d=1: train 0.8410981639883739, test 0.8412046605054763\n",
      "l=2.154434690031882, d=1: train 0.8443388042896978, test 0.8444272478557358\n",
      "l=10.0, d=1: train 0.8470042166725422, test 0.8470781293303457\n"
     ]
    }
   ],
   "source": [
    "best_loss = 1e100\n",
    "best_params = (-1, -1)\n",
    "k_indices = build_k_indices(y, k_folds, seed)\n",
    "degree = 1\n",
    "\n",
    "for l in lambdas:\n",
    "    loss_tr, loss_te = cross_validation(y, x, k_indices, k_folds, compute_rmse_loss, \n",
    "                                        ridge_regression, lambda_=l)\n",
    "    if loss_te < best_loss:\n",
    "        best_loss = loss_te\n",
    "        best_params = (l, degree)\n",
    "\n",
    "    print(\"l={}, d={}: train {}, test {}\".format(l, degree, loss_tr, loss_te))"
   ]
  },
  {
   "cell_type": "code",
   "execution_count": 39,
   "metadata": {
    "collapsed": true
   },
   "outputs": [],
   "source": [
    "from utilities.preprocessing import standard_scaler"
   ]
  },
  {
   "cell_type": "code",
   "execution_count": 40,
   "metadata": {
    "collapsed": true
   },
   "outputs": [],
   "source": [
    "x_scaled = standard_scaler(x)"
   ]
  },
  {
   "cell_type": "code",
   "execution_count": 10,
   "metadata": {},
   "outputs": [
    {
     "name": "stdout",
     "output_type": "stream",
     "text": [
      "l=1e-05, d=1: train 0.8825017421629031, test 0.8826356227305728\n",
      "l=4.641588833612782e-05, d=1: train 0.8826206777377745, test 0.8827497285627539\n",
      "l=0.00021544346900318823, d=1: train 0.882769503287592, test 0.8828943067239116\n",
      "l=0.001, d=1: train 0.8833231888693608, test 0.8834423072058749\n",
      "l=0.004641588833612777, d=1: train 0.8856797252083689, test 0.8857882871263703\n",
      "l=0.021544346900318822, d=1: train 0.8939909293635995, test 0.8940760214683018\n",
      "l=0.1, d=1: train 0.9123615281088533, test 0.9124238590764913\n",
      "l=0.46415888336127725, d=1: train 0.9387916705474516, test 0.9388303645101678\n",
      "l=2.154434690031882, d=1: train 0.9683906922211576, test 0.968406470200042\n",
      "l=10.0, d=1: train 0.9884899582569401, test 0.9884950595903498\n"
     ]
    }
   ],
   "source": [
    "best_loss = 1e100\n",
    "best_params = (-1, -1)\n",
    "k_indices = build_k_indices(y, k_folds, seed)\n",
    "degree = 1\n",
    "\n",
    "for l in lambdas:\n",
    "    loss_tr, loss_te = cross_validation(y, x_scaled, k_indices, k_folds, compute_rmse_loss, \n",
    "                                        ridge_regression, lambda_=l)\n",
    "    if loss_te < best_loss:\n",
    "        best_loss = loss_te\n",
    "        best_params = (l, degree)\n",
    "\n",
    "    print(\"l={}, d={}: train {}, test {}\".format(l, degree, loss_tr, loss_te))"
   ]
  },
  {
   "cell_type": "code",
   "execution_count": 9,
   "metadata": {
    "collapsed": true
   },
   "outputs": [],
   "source": [
    "from sklearn.decomposition import PCA\n",
    "import numpy as np"
   ]
  },
  {
   "cell_type": "code",
   "execution_count": 7,
   "metadata": {},
   "outputs": [
    {
     "data": {
      "text/plain": [
       "PCA(copy=True, iterated_power='auto', n_components=None, random_state=None,\n",
       "  svd_solver='auto', tol=0.0, whiten=False)"
      ]
     },
     "execution_count": 7,
     "metadata": {},
     "output_type": "execute_result"
    }
   ],
   "source": [
    "pca = PCA()\n",
    "pca.fit(x)"
   ]
  },
  {
   "cell_type": "code",
   "execution_count": 13,
   "metadata": {},
   "outputs": [],
   "source": [
    "x_reduced = PCA(n_components=4).fit_transform(x)"
   ]
  },
  {
   "cell_type": "code",
   "execution_count": 19,
   "metadata": {},
   "outputs": [
    {
     "name": "stdout",
     "output_type": "stream",
     "text": [
      "l=1e-05, d=1: train 0.9534086240253661, test 0.953422065275028\n",
      "l=4.641588833612782e-05, d=1: train 0.9534086240619424, test 0.9534220653115776\n",
      "l=0.00021544346900318823, d=1: train 0.9534086242317148, test 0.953422065481226\n",
      "l=0.001, d=1: train 0.9534086250197288, test 0.9534220662686639\n",
      "l=0.004641588833612777, d=1: train 0.9534086286773648, test 0.9534220699236261\n",
      "l=0.021544346900318822, d=1: train 0.953408645654591, test 0.9534220868884422\n"
     ]
    },
    {
     "ename": "KeyboardInterrupt",
     "evalue": "",
     "output_type": "error",
     "traceback": [
      "\u001b[1;31m---------------------------------------------------------------------------\u001b[0m",
      "\u001b[1;31mKeyboardInterrupt\u001b[0m                         Traceback (most recent call last)",
      "\u001b[1;32m<ipython-input-19-212aa9561383>\u001b[0m in \u001b[0;36m<module>\u001b[1;34m()\u001b[0m\n\u001b[0;32m      6\u001b[0m \u001b[1;32mfor\u001b[0m \u001b[0ml\u001b[0m \u001b[1;32min\u001b[0m \u001b[0mlambdas\u001b[0m\u001b[1;33m:\u001b[0m\u001b[1;33m\u001b[0m\u001b[0m\n\u001b[0;32m      7\u001b[0m     loss_tr, loss_te = cross_validation(y, x_reduced, k_indices, k_folds, compute_rmse_loss, \n\u001b[1;32m----> 8\u001b[1;33m                                         ridge_regression, lambda_=l)\n\u001b[0m\u001b[0;32m      9\u001b[0m     \u001b[1;32mif\u001b[0m \u001b[0mloss_te\u001b[0m \u001b[1;33m<\u001b[0m \u001b[0mbest_loss\u001b[0m\u001b[1;33m:\u001b[0m\u001b[1;33m\u001b[0m\u001b[0m\n\u001b[0;32m     10\u001b[0m         \u001b[0mbest_loss\u001b[0m \u001b[1;33m=\u001b[0m \u001b[0mloss_te\u001b[0m\u001b[1;33m\u001b[0m\u001b[0m\n",
      "\u001b[1;32mC:\\Users\\kir19\\Downloads\\EPFML_Project1\\code\\utilities\\cross_validation.py\u001b[0m in \u001b[0;36mcross_validation\u001b[1;34m(y, x, k_indices, k, compute_loss, regression, **kwargs)\u001b[0m\n\u001b[0;32m     34\u001b[0m     \u001b[1;32mfor\u001b[0m \u001b[0mcur_k\u001b[0m \u001b[1;32min\u001b[0m \u001b[0mrange\u001b[0m\u001b[1;33m(\u001b[0m\u001b[0mk\u001b[0m\u001b[1;33m)\u001b[0m\u001b[1;33m:\u001b[0m\u001b[1;33m\u001b[0m\u001b[0m\n\u001b[0;32m     35\u001b[0m         \u001b[0mindices_te\u001b[0m \u001b[1;33m=\u001b[0m \u001b[0mk_indices\u001b[0m\u001b[1;33m[\u001b[0m\u001b[0mcur_k\u001b[0m\u001b[1;33m]\u001b[0m\u001b[1;33m\u001b[0m\u001b[0m\n\u001b[1;32m---> 36\u001b[1;33m         \u001b[0mindices_tr\u001b[0m \u001b[1;33m=\u001b[0m \u001b[1;33m[\u001b[0m\u001b[0mi\u001b[0m \u001b[1;32mnot\u001b[0m \u001b[1;32min\u001b[0m \u001b[0mindices_te\u001b[0m \u001b[1;32mfor\u001b[0m \u001b[0mi\u001b[0m \u001b[1;32min\u001b[0m \u001b[0mrange\u001b[0m\u001b[1;33m(\u001b[0m\u001b[0mlen\u001b[0m\u001b[1;33m(\u001b[0m\u001b[0my\u001b[0m\u001b[1;33m)\u001b[0m\u001b[1;33m)\u001b[0m\u001b[1;33m]\u001b[0m\u001b[1;33m\u001b[0m\u001b[0m\n\u001b[0m\u001b[0;32m     37\u001b[0m \u001b[1;33m\u001b[0m\u001b[0m\n\u001b[0;32m     38\u001b[0m         \u001b[0mx_tr\u001b[0m\u001b[1;33m,\u001b[0m \u001b[0my_tr\u001b[0m \u001b[1;33m=\u001b[0m \u001b[0mx\u001b[0m\u001b[1;33m[\u001b[0m\u001b[0mindices_tr\u001b[0m\u001b[1;33m]\u001b[0m\u001b[1;33m,\u001b[0m \u001b[0my\u001b[0m\u001b[1;33m[\u001b[0m\u001b[0mindices_tr\u001b[0m\u001b[1;33m]\u001b[0m\u001b[1;33m\u001b[0m\u001b[0m\n",
      "\u001b[1;32mC:\\Users\\kir19\\Downloads\\EPFML_Project1\\code\\utilities\\cross_validation.py\u001b[0m in \u001b[0;36m<listcomp>\u001b[1;34m(.0)\u001b[0m\n\u001b[0;32m     34\u001b[0m     \u001b[1;32mfor\u001b[0m \u001b[0mcur_k\u001b[0m \u001b[1;32min\u001b[0m \u001b[0mrange\u001b[0m\u001b[1;33m(\u001b[0m\u001b[0mk\u001b[0m\u001b[1;33m)\u001b[0m\u001b[1;33m:\u001b[0m\u001b[1;33m\u001b[0m\u001b[0m\n\u001b[0;32m     35\u001b[0m         \u001b[0mindices_te\u001b[0m \u001b[1;33m=\u001b[0m \u001b[0mk_indices\u001b[0m\u001b[1;33m[\u001b[0m\u001b[0mcur_k\u001b[0m\u001b[1;33m]\u001b[0m\u001b[1;33m\u001b[0m\u001b[0m\n\u001b[1;32m---> 36\u001b[1;33m         \u001b[0mindices_tr\u001b[0m \u001b[1;33m=\u001b[0m \u001b[1;33m[\u001b[0m\u001b[0mi\u001b[0m \u001b[1;32mnot\u001b[0m \u001b[1;32min\u001b[0m \u001b[0mindices_te\u001b[0m \u001b[1;32mfor\u001b[0m \u001b[0mi\u001b[0m \u001b[1;32min\u001b[0m \u001b[0mrange\u001b[0m\u001b[1;33m(\u001b[0m\u001b[0mlen\u001b[0m\u001b[1;33m(\u001b[0m\u001b[0my\u001b[0m\u001b[1;33m)\u001b[0m\u001b[1;33m)\u001b[0m\u001b[1;33m]\u001b[0m\u001b[1;33m\u001b[0m\u001b[0m\n\u001b[0m\u001b[0;32m     37\u001b[0m \u001b[1;33m\u001b[0m\u001b[0m\n\u001b[0;32m     38\u001b[0m         \u001b[0mx_tr\u001b[0m\u001b[1;33m,\u001b[0m \u001b[0my_tr\u001b[0m \u001b[1;33m=\u001b[0m \u001b[0mx\u001b[0m\u001b[1;33m[\u001b[0m\u001b[0mindices_tr\u001b[0m\u001b[1;33m]\u001b[0m\u001b[1;33m,\u001b[0m \u001b[0my\u001b[0m\u001b[1;33m[\u001b[0m\u001b[0mindices_tr\u001b[0m\u001b[1;33m]\u001b[0m\u001b[1;33m\u001b[0m\u001b[0m\n",
      "\u001b[1;31mKeyboardInterrupt\u001b[0m: "
     ]
    }
   ],
   "source": [
    "best_loss = 1e100\n",
    "best_params = (-1, -1)\n",
    "k_indices = build_k_indices(y, k_folds, seed)\n",
    "degree = 1\n",
    "\n",
    "for l in lambdas:\n",
    "    loss_tr, loss_te = cross_validation(y, x_reduced, k_indices, k_folds, compute_rmse_loss, \n",
    "                                        ridge_regression, lambda_=l)\n",
    "    if loss_te < best_loss:\n",
    "        best_loss = loss_te\n",
    "        best_params = (l, degree)\n",
    "\n",
    "    print(\"l={}, d={}: train {}, test {}\".format(l, degree, loss_tr, loss_te))"
   ]
  },
  {
   "cell_type": "code",
   "execution_count": 36,
   "metadata": {
    "collapsed": true
   },
   "outputs": [],
   "source": [
    "x_tr, y_tr, x_te, y_te =split_data(x, y, 0.8)"
   ]
  },
  {
   "cell_type": "code",
   "execution_count": 37,
   "metadata": {},
   "outputs": [
    {
     "data": {
      "text/plain": [
       "(30,)"
      ]
     },
     "execution_count": 37,
     "metadata": {},
     "output_type": "execute_result"
    }
   ],
   "source": [
    "weights = least_squares(y_tr, x_tr)\n",
    "weights.shape"
   ]
  },
  {
   "cell_type": "code",
   "execution_count": 38,
   "metadata": {},
   "outputs": [
    {
     "data": {
      "text/plain": [
       "0.74426000000000003"
      ]
     },
     "execution_count": 38,
     "metadata": {},
     "output_type": "execute_result"
    }
   ],
   "source": [
    "np.sum((y_tr == 1) == (x_tr.dot(weights) > 0)) / len(y_tr)"
   ]
  },
  {
   "cell_type": "code",
   "execution_count": 41,
   "metadata": {},
   "outputs": [
    {
     "data": {
      "text/plain": [
       "(30,)"
      ]
     },
     "execution_count": 41,
     "metadata": {},
     "output_type": "execute_result"
    }
   ],
   "source": [
    "x_tr, y_tr, x_te, y_te =split_data(x_scaled, y, 0.8)\n",
    "weights = least_squares(y_tr, x_tr)\n",
    "weights.shape"
   ]
  },
  {
   "cell_type": "code",
   "execution_count": 42,
   "metadata": {},
   "outputs": [
    {
     "data": {
      "text/plain": [
       "0.71885500000000002"
      ]
     },
     "execution_count": 42,
     "metadata": {},
     "output_type": "execute_result"
    }
   ],
   "source": [
    "np.sum((y_tr == 1) == (x_tr.dot(weights) > 0)) / len(y_tr)"
   ]
  },
  {
   "cell_type": "code",
   "execution_count": 43,
   "metadata": {},
   "outputs": [
    {
     "name": "stdout",
     "output_type": "stream",
     "text": [
      "(568238,) (568238, 30) (568238,)\n"
     ]
    }
   ],
   "source": [
    "test_data = load_csv_data(\"data/test.csv\")\n",
    "y, x, ids = test_data[0], test_data[1], test_data[2]\n",
    "print(y.shape, x.shape, ids.shape)"
   ]
  },
  {
   "cell_type": "code",
   "execution_count": null,
   "metadata": {
    "collapsed": true
   },
   "outputs": [],
   "source": []
  },
  {
   "cell_type": "code",
   "execution_count": null,
   "metadata": {},
   "outputs": [],
   "source": []
  },
  {
   "cell_type": "code",
   "execution_count": null,
   "metadata": {
    "collapsed": true
   },
   "outputs": [],
   "source": []
  }
 ],
 "metadata": {
  "kernelspec": {
   "display_name": "Python 3",
   "language": "python",
   "name": "python3"
  },
  "language_info": {
   "codemirror_mode": {
    "name": "ipython",
    "version": 3
   },
   "file_extension": ".py",
   "mimetype": "text/x-python",
   "name": "python",
   "nbconvert_exporter": "python",
   "pygments_lexer": "ipython3",
   "version": "3.6.1"
  }
 },
 "nbformat": 4,
 "nbformat_minor": 1
}
