{
 "cells": [
  {
   "cell_type": "code",
   "execution_count": 30,
   "metadata": {
    "collapsed": true
   },
   "outputs": [],
   "source": [
    "from utilities.proj1_helpers import load_csv_data\n",
    "import numpy as np\n",
    "from utilities.pca import compute_pca\n",
    "from utilities.preprocessing import standard_scaler\n",
    "import pandas as pd\n",
    "import seaborn as sns\n",
    "import matplotlib.pyplot as plt\n",
    "from utilities.proj1_helpers import *"
   ]
  },
  {
   "cell_type": "code",
   "execution_count": 39,
   "metadata": {
    "collapsed": false
   },
   "outputs": [
    {
     "name": "stdout",
     "output_type": "stream",
     "text": [
      "(30,) (250000, 30) (30,)\n"
     ]
    }
   ],
   "source": [
    "train_data = load_csv_data(\"data/train.csv\")\n",
    "y_train, x_train, ids_train = train_data[0], train_data[1], train_data[2]\n",
    "\n",
    "indices = [i for i in range(30)]\n",
    "#del indices[23]\n",
    "\n",
    "y_train = y_train[indices]\n",
    "x_train = x_train[:, indices]\n",
    "ids_train = ids_train[indices]\n",
    "\n",
    "y_train[np.where(y_train == -1)] = 0\n",
    "N, D = x_train.shape\n",
    "print(y_train.shape, x_train.shape, ids_train.shape)"
   ]
  },
  {
   "cell_type": "code",
   "execution_count": 40,
   "metadata": {
    "collapsed": false
   },
   "outputs": [],
   "source": [
    "df = pd.DataFrame(x_train)\n",
    "df = df[df > 0]\n",
    "axis = [i for i in range(len(df))]\n",
    "if False:\n",
    "    for i in df.columns.values:\n",
    "        print(i)\n",
    "        fig, ax = plt.subplots()\n",
    "        df[i].hist(bins=100)\n",
    "        #ax.set_yscale('log')\n",
    "        plt.show()"
   ]
  },
  {
   "cell_type": "code",
   "execution_count": 42,
   "metadata": {
    "collapsed": false
   },
   "outputs": [
    {
     "data": {
      "image/png": "[encoded data removed]",
      "text/plain": [
       "<matplotlib.figure.Figure at 0x2429c1f95f8>"
      ]
     },
     "metadata": {},
     "output_type": "display_data"
    }
   ],
   "source": [
    "c = df.corr()\n",
    "sns.heatmap(c)\n",
    "plt.show()"
   ]
  },
  {
   "cell_type": "code",
   "execution_count": 7,
   "metadata": {
    "collapsed": false
   },
   "outputs": [],
   "source": [
    "df = np.log(df)\n",
    "df.replace(np.nan, -999.0, inplace=True)\n",
    "x_train = df.values"
   ]
  },
  {
   "cell_type": "code",
   "execution_count": 8,
   "metadata": {
    "collapsed": true
   },
   "outputs": [],
   "source": [
    "# Params to bruteforce\n",
    "lambdas = np.logspace(-5, 1, 10)\n",
    "degrees = np.arange(1, 8, 1)\n",
    "k_folds = 4\n",
    "seed = 1"
   ]
  },
  {
   "cell_type": "code",
   "execution_count": 21,
   "metadata": {
    "collapsed": true
   },
   "outputs": [],
   "source": [
    "from regression.linear_models import *\n",
    "from utilities.cross_validation import cross_validation, build_k_indices, split_data\n",
    "from regression.loss import compute_rmse_loss, compute_logistic_loss\n",
    "from utilities.preprocessing import standard_scaler_outlier"
   ]
  },
  {
   "cell_type": "code",
   "execution_count": 22,
   "metadata": {
    "collapsed": true
   },
   "outputs": [],
   "source": [
    "x_scaled, means, sds = standard_scaler_outlier(x_train, -999)\n",
    "x_scaled = np.c_[np.ones(x_scaled.shape[0]), x_scaled]"
   ]
  },
  {
   "cell_type": "code",
   "execution_count": 23,
   "metadata": {
    "collapsed": true
   },
   "outputs": [],
   "source": [
    "from utilities.pca import compute_pca\n",
    "from utilities.stochastic import sigmoid, stochastic_gradient_descent\n",
    "from regression.stochastic_models import *"
   ]
  },
  {
   "cell_type": "code",
   "execution_count": 25,
   "metadata": {
    "collapsed": false
   },
   "outputs": [],
   "source": [
    "x_pca, eig_pca = compute_pca(x_scaled, number_pc=x_scaled.shape[1])\n",
    "x_tr_s, y_tr_s, x_te_s, y_te_s =split_data(x_scaled, y_train, 0.8)\n",
    "x_tr_p, y_tr_p, x_te_p, y_te_p =split_data(x_pca, y_train, 0.8)"
   ]
  },
  {
   "cell_type": "code",
   "execution_count": 28,
   "metadata": {
    "collapsed": false
   },
   "outputs": [
    {
     "name": "stdout",
     "output_type": "stream",
     "text": [
      "l=1e-05: train 0.00121, test 5.06086; Acc: train 0.30435, test 0.00000\n",
      "l=4.641588833612782e-05: train 0.00185, test 1.95767; Acc: train 0.30435, test 0.16667\n",
      "l=0.00021544346900318823: train 0.00354, test 1.48490; Acc: train 0.30435, test 0.16667\n",
      "l=0.001: train 0.00878, test 0.83065; Acc: train 0.30435, test 0.16667\n",
      "l=0.004641588833612777: train 0.02147, test 0.51475; Acc: train 0.30435, test 0.16667\n",
      "l=0.021544346900318822: train 0.04254, test 0.33646; Acc: train 0.30435, test 0.16667\n",
      "l=0.1: train 0.06967, test 0.23931; Acc: train 0.30435, test 0.00000\n",
      "l=0.46415888336127725: train 0.10248, test 0.21305; Acc: train 0.30435, test 0.16667\n",
      "l=2.154434690031882: train 0.13167, test 0.19528; Acc: train 0.30435, test 0.16667\n",
      "l=10.0: train 0.14640, test 0.17653; Acc: train 0.30435, test 0.00000\n"
     ]
    }
   ],
   "source": [
    "best_loss = 1e100\n",
    "best_params = (-1, -1)\n",
    "k_indices = build_k_indices(y_train, k_folds, seed)\n",
    "degree = 1\n",
    "\n",
    "for l in lambdas:\n",
    "    ws = ridge_regression(y_tr_s, x_tr_s, l)\n",
    "    loss_tr = compute_mse_loss(y_tr_s, x_tr_s, ws, l)\n",
    "    loss_te = compute_mse_loss(y_te_s, x_te_s, ws, l)\n",
    "    y_te_pred = predict_labels(ws, x_te_s)\n",
    "    y_tr_pred = predict_labels(ws, x_tr_s)\n",
    "    acc_tr = np.sum(y_tr_pred == y_tr_s) / len(y_tr_pred)\n",
    "    acc_te = np.sum(y_te_pred == y_te_s) / len(y_te_pred)\n",
    "    if loss_te < best_loss:\n",
    "        best_loss = loss_te\n",
    "        best_params = (l, degree)\n",
    "\n",
    "    print(\"l={}: train {:.5f}, test {:.5f}; Acc: train {:.5f}, test {:.5f}\".format(l, loss_tr, loss_te, acc_tr, acc_te))"
   ]
  },
  {
   "cell_type": "code",
   "execution_count": 29,
   "metadata": {
    "collapsed": true
   },
   "outputs": [],
   "source": [
    "initial_w = np.ones(x_scaled.shape[1])"
   ]
  },
  {
   "cell_type": "code",
   "execution_count": null,
   "metadata": {
    "collapsed": false
   },
   "outputs": [],
   "source": [
    "def build_poly(x, degree):\n",
    "    \"\"\"polynomial basis functions for input data x, for j=0 up to j=degree.\"\"\"\n",
    "    # ***************************************************\n",
    "    # INSERT YOUR CODE HERE\n",
    "    # polynomial basis function: TODO\n",
    "    # this function should return the matrix formed\n",
    "    # by applying the polynomial basis to the input data\n",
    "    # ***************************************************\n",
    "    poly = np.array([x**j for j in range(degree+1)]).T\n",
    "    return poly\n",
    "\n",
    "def least_squares(y, tx):\n",
    "    \"\"\"calculate the least squares solution.\"\"\"\n",
    "    # ***************************************************\n",
    "    # INSERT YOUR CODE HERE\n",
    "    # least squares: TODO\n",
    "    # returns mse, and optimal weights\n",
    "    # ***************************************************\n",
    "    gram = (tx.T).dot(tx)\n",
    "    N = len(y)\n",
    "    try:\n",
    "        w_star = np.linalg.inv(gram).dot(tx.T).dot(y)\n",
    "    except np.linalg.LinAlgError:\n",
    "        U, S, V = np.linalg.svd(tx)\n",
    "        w_star = V.dot(np.linalg.pinv(S)).dot(U.T).dot(y)\n",
    "    e = y-tx.dot(w_star)\n",
    "    MSE = (e.T).dot(e)/(2*N)\n",
    "    return MSE, w_star\n",
    "\n",
    "def polynomial_regression(x, y):\n",
    "    \"\"\"Constructing the polynomial basis function expansion of the data,\n",
    "       and then running least squares regression.\"\"\"\n",
    "    # define parameters\n",
    "    degrees = range(10)\n",
    "    best_params = (0, 0)\n",
    "    w = 0\n",
    "    loss = np.infty\n",
    "    \n",
    "    # define the structure of the figure\n",
    "    num_row = 2\n",
    "    num_col = 2\n",
    "    f, axs = plt.subplots(num_row, num_col)\n",
    "\n",
    "    for ind, degree in enumerate(degrees):\n",
    "        # ***************************************************\n",
    "        # INSERT YOUR CODE HERE\n",
    "        # form the data to do polynomial regression.: TODO\n",
    "        # ***************************************************\n",
    "        poly = build_poly(x, degree)\n",
    "        # ***************************************************\n",
    "        # INSERT YOUR CODE HERE\n",
    "        # least square and calculate RMSE: TODO\n",
    "        # ***************************************************\n",
    "        mse, weights = least_squares(y, poly)\n",
    "        rmse = np.sqrt(2*mse)\n",
    "        if rmse < loss:\n",
    "            best_params = (degree, rmse)\n",
    "            w = weights\n",
    "            loss = rmse\n",
    "\n",
    "        print(\"Processing {i}th experiment, degree={d}, rmse={loss}\".format(\n",
    "              i=ind + 1, d=degree, loss=rmse))\n",
    "    return best_params, w"
   ]
  }
 ],
 "metadata": {
  "kernelspec": {
   "display_name": "Python [conda root]",
   "language": "python",
   "name": "conda-root-py"
  },
  "language_info": {
   "codemirror_mode": {
    "name": "ipython",
    "version": 3
   },
   "file_extension": ".py",
   "mimetype": "text/x-python",
   "name": "python",
   "nbconvert_exporter": "python",
   "pygments_lexer": "ipython3",
   "version": "3.6.0"
  }
 },
 "nbformat": 4,
 "nbformat_minor": 2
}
