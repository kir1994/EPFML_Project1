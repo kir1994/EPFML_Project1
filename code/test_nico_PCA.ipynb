{
 "cells": [
  {
   "cell_type": "code",
   "execution_count": 1,
   "metadata": {
    "collapsed": true
   },
   "outputs": [],
   "source": [
    "# Useful starting lines\n",
    "%matplotlib inline\n",
    "import numpy as np\n",
    "import matplotlib.pyplot as plt\n",
    "%load_ext autoreload\n",
    "%autoreload 2"
   ]
  },
  {
   "cell_type": "markdown",
   "metadata": {},
   "source": [
    "# Import the data"
   ]
  },
  {
   "cell_type": "code",
   "execution_count": 1,
   "metadata": {
    "collapsed": true
   },
   "outputs": [],
   "source": [
    "from utilities.proj1_helpers import *"
   ]
  },
  {
   "cell_type": "code",
   "execution_count": 2,
   "metadata": {},
   "outputs": [
    {
     "name": "stdout",
     "output_type": "stream",
     "text": [
      "(250000,) (250000, 30) (250000,)\n"
     ]
    }
   ],
   "source": [
    "train_data = load_csv_data(\"data/train.csv\")\n",
    "y_train, x_train, ids_train = train_data[0], train_data[1], train_data[2]\n",
    "N, D = x_train.shape\n",
    "print(y_train.shape, x_train.shape, ids_train.shape)"
   ]
  },
  {
   "cell_type": "code",
   "execution_count": 3,
   "metadata": {},
   "outputs": [
    {
     "name": "stdout",
     "output_type": "stream",
     "text": [
      "(568238,) (568238, 30) (568238,)\n"
     ]
    }
   ],
   "source": [
    "test_data = load_csv_data(\"data/test.csv\")\n",
    "y_test, x_test, ids_test = test_data[0], test_data[1], test_data[2]\n",
    "print(y_test.shape, x_test.shape, ids_test.shape)"
   ]
  },
  {
   "cell_type": "code",
   "execution_count": 4,
   "metadata": {
    "collapsed": true
   },
   "outputs": [],
   "source": [
    "from utilities.implementations_Nico import *\n",
    "from utilities.cross_validation import cross_validation, build_k_indices, split_data\n",
    "#from utilities.pca import compute_pca\n",
    "from utilities.preprocessing import standard_scaler"
   ]
  },
  {
   "cell_type": "markdown",
   "metadata": {},
   "source": [
    "# Pre-process it"
   ]
  },
  {
   "cell_type": "markdown",
   "metadata": {},
   "source": [
    "## Take care of missing values\n",
    "Too many samples have at least one missing values (around 73%), we have to replace them with the mean (which will be 0 after normalization)."
   ]
  },
  {
   "cell_type": "code",
   "execution_count": 5,
   "metadata": {
    "scrolled": true
   },
   "outputs": [
    {
     "name": "stdout",
     "output_type": "stream",
     "text": [
      "181886 / 250000 = 72.7544 % of samples with missing values\n"
     ]
    }
   ],
   "source": [
    "# Count the number of samples with missing values\n",
    "count = 0\n",
    "for i in range(len(x_train)):\n",
    "    if -999.0 in x_train[i,:]:\n",
    "        count += 1\n",
    "        \n",
    "print(count, \"/\", len(x_train), \"=\", count/len(x_train)*100, \"% of samples with missing values\")"
   ]
  },
  {
   "cell_type": "code",
   "execution_count": 6,
   "metadata": {
    "collapsed": true
   },
   "outputs": [],
   "source": [
    "# Normalize and center the data considering ONLY the correct values (not taking in account the values set at -999.0)\n",
    "\n",
    "x_train_mean = np.zeros(D)\n",
    "x_train_std  = np.zeros(D)\n",
    "# Create a boolean mask with False at missing values\n",
    "x_train_mask = (x_train != -999.0)\n",
    "\n",
    "# Loop on the features, compute the mean/std without the missing values\n",
    "for i in range(D):\n",
    "    feature_values = x_train[x_train_mask[:, i], i]\n",
    "    x_train_mean[i] = feature_values.mean()\n",
    "    x_train_std[i]  = feature_values.std()\n",
    "    \n",
    "# Normalize and center the data\n",
    "x = (x_train - x_train_mean) / x_train_std\n",
    "# Set to 0 (the mean) the missing values\n",
    "x[np.invert(x_train_mask)] = 0."
   ]
  },
  {
   "cell_type": "markdown",
   "metadata": {},
   "source": [
    "## PCA\n",
    "In order to reduce the dimensionality and decorrelate the data."
   ]
  },
  {
   "cell_type": "code",
   "execution_count": 11,
   "metadata": {
    "collapsed": true
   },
   "outputs": [],
   "source": [
    "def compute_pca(x, number_pc=-1):\n",
    "    N, D = np.shape(x)\n",
    "\n",
    "    # Center the data\n",
    "    g = np.mean(x, axis=0) # center of mass\n",
    "    x_c = x - g\n",
    "    \n",
    "    # Spectral analysis\n",
    "    Sigma = x_c.T.dot(x_c)\n",
    "    values, vectors = np.linalg.eig(Sigma)\n",
    "    idx = values.argsort()[::-1] # eigenvalues and eigenvectors sorted together in decreasing order\n",
    "    values = values[idx]\n",
    "    vectors = vectors[:, idx]\n",
    "    \n",
    "    # Selecting the principal components\n",
    "    if number_pc < 0:\n",
    "        rank = np.sum(values)\n",
    "        sum_values = values[0]\n",
    "        number_pc = 1\n",
    "        #print(sum_values/rank) #### PRINT HERE\n",
    "        while sum_values/rank < 0.95:\n",
    "            sum_values += values[number_pc]\n",
    "            number_pc += 1\n",
    "            #print(sum_values/rank) #### PRINT HERE\n",
    "    pc = x_c.dot(vectors[:, :number_pc])\n",
    "    return pc, vectors[:, :number_pc], values[:number_pc]"
   ]
  },
  {
   "cell_type": "code",
   "execution_count": 12,
   "metadata": {},
   "outputs": [
    {
     "name": "stdout",
     "output_type": "stream",
     "text": [
      "(250000, 19) \n",
      " (30, 19) \n",
      " (19,)\n"
     ]
    }
   ],
   "source": [
    "x_pc, eigenvectors, eigenvalues = compute_pca(x)\n",
    "print(x_pc.shape, \"\\n\", eigenvectors.shape, \"\\n\", eigenvalues.shape)"
   ]
  },
  {
   "cell_type": "markdown",
   "metadata": {},
   "source": [
    "## Plot the projected data\n",
    "Plot the data in 3D (along 3 arbitrary axis), blue is for the signal, and red for the background."
   ]
  },
  {
   "cell_type": "code",
   "execution_count": 13,
   "metadata": {},
   "outputs": [
    {
     "data": {
      "image/png": "[encoded data removed]",
      "text/plain": [
       "<matplotlib.figure.Figure at 0x15aa6681828>"
      ]
     },
     "metadata": {},
     "output_type": "display_data"
    }
   ],
   "source": [
    "import matplotlib.pyplot as plt\n",
    "from mpl_toolkits.mplot3d import Axes3D\n",
    "\n",
    "# Subsamples\n",
    "x_sub = x[::1000] # x to have original data (normalized and centered), and x_pc to use the data after the PCA\n",
    "y_sub = y_train[::1000]\n",
    "\n",
    "y_color = ['blue' if y_sub[i] > 0. else 'red' for i in range(len(y_sub))]\n",
    "\n",
    "fig = plt.figure()\n",
    "ax = fig.add_subplot(111, projection='3d')\n",
    "ax.scatter3D(x_sub[:, 0], x_sub[:, 1], x_sub[:, 2], c=y_color) # change the numbers to have different plotting axis\n",
    "ax.set_xlabel(\"x\")\n",
    "ax.set_ylabel(\"y\")\n",
    "ax.set_zlabel(\"z\")\n",
    "plt.show()"
   ]
  },
  {
   "cell_type": "markdown",
   "metadata": {},
   "source": [
    "# Learn a model"
   ]
  },
  {
   "cell_type": "markdown",
   "metadata": {},
   "source": [
    "## Split the data\n",
    "Split the data into train and validation set. We first learn the model on the train set, and then test it on the validation set.\n",
    "\n",
    "The ration gives the percent of the data going to train (ratio = 0.8 means 80% for training and 20% for validating)."
   ]
  },
  {
   "cell_type": "code",
   "execution_count": 21,
   "metadata": {},
   "outputs": [
    {
     "name": "stdout",
     "output_type": "stream",
     "text": [
      "(165000, 30) (85000, 30) \n",
      " 66.0 % of training\n"
     ]
    }
   ],
   "source": [
    "seed = 1\n",
    "ratio = 0.66\n",
    "\n",
    "# Choose here if you want the original data, or after PCA\n",
    "x_tr, y_tr, x_te, y_te = split_data(x, y_train, ratio, seed)\n",
    "print(x_tr.shape, x_te.shape, \"\\n\", x_tr.shape[0] / (x_tr.shape[0]+x_te.shape[0])*100, \"% of training\")"
   ]
  },
  {
   "cell_type": "markdown",
   "metadata": {},
   "source": [
    "## Weight and loss\n",
    "Compute here the weight and the resulting loss of the chosen model."
   ]
  },
  {
   "cell_type": "code",
   "execution_count": 37,
   "metadata": {
    "scrolled": true
   },
   "outputs": [
    {
     "ename": "TypeError",
     "evalue": "unsupported operand type(s) for *: 'dict' and 'float'",
     "output_type": "error",
     "traceback": [
      "\u001b[0;31m---------------------------------------------------------------------------\u001b[0m",
      "\u001b[0;31mTypeError\u001b[0m                                 Traceback (most recent call last)",
      "\u001b[0;32m<ipython-input-37-67393bc918e8>\u001b[0m in \u001b[0;36m<module>\u001b[0;34m()\u001b[0m\n\u001b[1;32m     10\u001b[0m \u001b[0mgamma\u001b[0m     \u001b[1;33m=\u001b[0m \u001b[1;36m0.1\u001b[0m\u001b[1;33m\u001b[0m\u001b[0m\n\u001b[1;32m     11\u001b[0m \u001b[1;33m\u001b[0m\u001b[0m\n\u001b[0;32m---> 12\u001b[0;31m \u001b[0mw\u001b[0m\u001b[1;33m,\u001b[0m \u001b[0mloss\u001b[0m \u001b[1;33m=\u001b[0m \u001b[0mlogistic_regression\u001b[0m\u001b[1;33m(\u001b[0m\u001b[0my_log\u001b[0m\u001b[1;33m,\u001b[0m \u001b[0mtx\u001b[0m\u001b[1;33m,\u001b[0m \u001b[0minitial_w\u001b[0m\u001b[1;33m,\u001b[0m \u001b[0mmax_iters\u001b[0m\u001b[1;33m,\u001b[0m \u001b[0mgamma\u001b[0m\u001b[1;33m)\u001b[0m\u001b[1;33m\u001b[0m\u001b[0m\n\u001b[0m",
      "\u001b[0;32mD:\\Nicolas\\Documents\\EPFL\\Master\\Machine Learning\\Projects\\EPFML_Project1\\code\\utilities\\implementations_Nico.py\u001b[0m in \u001b[0;36mlogistic_regression\u001b[0;34m(y, tx, initial_w, max_iters, gamma)\u001b[0m\n\u001b[1;32m     96\u001b[0m \u001b[1;33m\u001b[0m\u001b[0m\n\u001b[1;32m     97\u001b[0m \u001b[1;32mdef\u001b[0m \u001b[0mlogistic_regression\u001b[0m\u001b[1;33m(\u001b[0m\u001b[0my\u001b[0m\u001b[1;33m,\u001b[0m \u001b[0mtx\u001b[0m\u001b[1;33m,\u001b[0m \u001b[0minitial_w\u001b[0m\u001b[1;33m,\u001b[0m \u001b[0mmax_iters\u001b[0m\u001b[1;33m,\u001b[0m \u001b[0mgamma\u001b[0m\u001b[1;33m)\u001b[0m\u001b[1;33m:\u001b[0m\u001b[1;33m\u001b[0m\u001b[0m\n\u001b[0;32m---> 98\u001b[0;31m     \u001b[1;32mreturn\u001b[0m \u001b[0mstochastic_gradient_descent\u001b[0m\u001b[1;33m(\u001b[0m\u001b[0my\u001b[0m\u001b[1;33m,\u001b[0m \u001b[0mtx\u001b[0m\u001b[1;33m,\u001b[0m \u001b[0minitial_w\u001b[0m\u001b[1;33m,\u001b[0m \u001b[0mmax_iters\u001b[0m\u001b[1;33m,\u001b[0m \u001b[0mgamma\u001b[0m\u001b[1;33m,\u001b[0m \u001b[0mcompute_logistic_loss\u001b[0m\u001b[1;33m,\u001b[0m \u001b[0mcompute_logistic_gradient\u001b[0m\u001b[1;33m)\u001b[0m\u001b[1;33m\u001b[0m\u001b[0m\n\u001b[0m\u001b[1;32m     99\u001b[0m \u001b[1;33m\u001b[0m\u001b[0m\n\u001b[1;32m    100\u001b[0m \u001b[1;33m\u001b[0m\u001b[0m\n",
      "\u001b[0;32mD:\\Nicolas\\Documents\\EPFL\\Master\\Machine Learning\\Projects\\EPFML_Project1\\code\\utilities\\implementations_Nico.py\u001b[0m in \u001b[0;36mstochastic_gradient_descent\u001b[0;34m(y, tx, initial_w, max_iters, gamma, compute_loss, compute_gradient, batch_size, **kwargs)\u001b[0m\n\u001b[1;32m     72\u001b[0m \u001b[1;33m\u001b[0m\u001b[0m\n\u001b[1;32m     73\u001b[0m         \u001b[1;31m# Compute gradient and loss\u001b[0m\u001b[1;33m\u001b[0m\u001b[1;33m\u001b[0m\u001b[0m\n\u001b[0;32m---> 74\u001b[0;31m         \u001b[0mloss\u001b[0m \u001b[1;33m=\u001b[0m \u001b[0mcompute_loss\u001b[0m\u001b[1;33m(\u001b[0m\u001b[0my_cur\u001b[0m\u001b[1;33m,\u001b[0m \u001b[0mtx_cur\u001b[0m\u001b[1;33m,\u001b[0m \u001b[0mw\u001b[0m\u001b[1;33m,\u001b[0m \u001b[0mkwargs\u001b[0m\u001b[1;33m)\u001b[0m\u001b[1;33m\u001b[0m\u001b[0m\n\u001b[0m\u001b[1;32m     75\u001b[0m         \u001b[0mgrad\u001b[0m \u001b[1;33m=\u001b[0m \u001b[0mcompute_gradient\u001b[0m\u001b[1;33m(\u001b[0m\u001b[0my_cur\u001b[0m\u001b[1;33m,\u001b[0m \u001b[0mtx_cur\u001b[0m\u001b[1;33m,\u001b[0m \u001b[0mw\u001b[0m\u001b[1;33m,\u001b[0m \u001b[0mkwargs\u001b[0m\u001b[1;33m)\u001b[0m\u001b[1;33m\u001b[0m\u001b[0m\n\u001b[1;32m     76\u001b[0m \u001b[1;33m\u001b[0m\u001b[0m\n",
      "\u001b[0;32mD:\\Nicolas\\Documents\\EPFL\\Master\\Machine Learning\\Projects\\EPFML_Project1\\code\\utilities\\implementations_Nico.py\u001b[0m in \u001b[0;36mcompute_logistic_loss\u001b[0;34m(y, tx, w, lambda_)\u001b[0m\n\u001b[1;32m     29\u001b[0m \u001b[1;32mdef\u001b[0m \u001b[0mcompute_logistic_loss\u001b[0m\u001b[1;33m(\u001b[0m\u001b[0my\u001b[0m\u001b[1;33m,\u001b[0m \u001b[0mtx\u001b[0m\u001b[1;33m,\u001b[0m \u001b[0mw\u001b[0m\u001b[1;33m,\u001b[0m \u001b[0mlambda_\u001b[0m \u001b[1;33m=\u001b[0m \u001b[1;36m0\u001b[0m\u001b[1;33m)\u001b[0m\u001b[1;33m:\u001b[0m\u001b[1;33m\u001b[0m\u001b[0m\n\u001b[1;32m     30\u001b[0m         \u001b[1;34m\"\"\" Log-loss for logistic regression \"\"\"\u001b[0m\u001b[1;33m\u001b[0m\u001b[0m\n\u001b[0;32m---> 31\u001b[0;31m         \u001b[1;32mreturn\u001b[0m \u001b[1;33m-\u001b[0m\u001b[0mnp\u001b[0m\u001b[1;33m.\u001b[0m\u001b[0msum\u001b[0m\u001b[1;33m(\u001b[0m\u001b[0my\u001b[0m \u001b[1;33m*\u001b[0m \u001b[0mnp\u001b[0m\u001b[1;33m.\u001b[0m\u001b[0mlog\u001b[0m\u001b[1;33m(\u001b[0m\u001b[0msigmoid\u001b[0m\u001b[1;33m(\u001b[0m\u001b[0mtx\u001b[0m\u001b[1;33m,\u001b[0m \u001b[0mw\u001b[0m\u001b[1;33m)\u001b[0m\u001b[1;33m)\u001b[0m \u001b[1;33m+\u001b[0m \u001b[1;33m(\u001b[0m\u001b[1;36m1\u001b[0m \u001b[1;33m-\u001b[0m \u001b[0my\u001b[0m\u001b[1;33m)\u001b[0m \u001b[1;33m*\u001b[0m \u001b[0mnp\u001b[0m\u001b[1;33m.\u001b[0m\u001b[0mlog\u001b[0m\u001b[1;33m(\u001b[0m\u001b[1;36m1\u001b[0m \u001b[1;33m-\u001b[0m \u001b[0msigmoid\u001b[0m\u001b[1;33m(\u001b[0m\u001b[0mtx\u001b[0m\u001b[1;33m,\u001b[0m \u001b[0mw\u001b[0m\u001b[1;33m)\u001b[0m\u001b[1;33m)\u001b[0m\u001b[1;33m)\u001b[0m \u001b[1;33m/\u001b[0m \u001b[0my\u001b[0m\u001b[1;33m.\u001b[0m\u001b[0mshape\u001b[0m\u001b[1;33m[\u001b[0m\u001b[1;36m0\u001b[0m\u001b[1;33m]\u001b[0m \u001b[1;33m+\u001b[0m \u001b[0mlambda_\u001b[0m \u001b[1;33m*\u001b[0m \u001b[0mw\u001b[0m\u001b[1;33m[\u001b[0m\u001b[0mnp\u001b[0m\u001b[1;33m.\u001b[0m\u001b[0mnewaxis\u001b[0m\u001b[1;33m,\u001b[0m\u001b[1;33m:\u001b[0m\u001b[1;33m]\u001b[0m\u001b[1;33m.\u001b[0m\u001b[0mdot\u001b[0m\u001b[1;33m(\u001b[0m\u001b[0mw\u001b[0m\u001b[1;33m[\u001b[0m\u001b[1;33m:\u001b[0m\u001b[1;33m,\u001b[0m\u001b[0mnp\u001b[0m\u001b[1;33m.\u001b[0m\u001b[0mnewaxis\u001b[0m\u001b[1;33m]\u001b[0m\u001b[1;33m)\u001b[0m\u001b[1;33m\u001b[0m\u001b[0m\n\u001b[0m\u001b[1;32m     32\u001b[0m \u001b[1;33m\u001b[0m\u001b[0m\n\u001b[1;32m     33\u001b[0m \u001b[1;33m\u001b[0m\u001b[0m\n",
      "\u001b[0;31mTypeError\u001b[0m: unsupported operand type(s) for *: 'dict' and 'float'"
     ]
    }
   ],
   "source": [
    "## Logistic regression (TODO: doesn't work yet, need to look into it)\n",
    "\n",
    "# y = {-1; +1} => y = {0; +1}\n",
    "y_log = (y_train + 1) / 2\n",
    "# Add a \"biais\" to the input\n",
    "tx = np.c_[np.ones(N), x_pc]\n",
    "\n",
    "initial_w = np.zeros(tx.shape[1])\n",
    "max_iters = 50\n",
    "gamma     = 0.1\n",
    "\n",
    "w, loss = logistic_regression(y_log, tx, initial_w, max_iters, gamma)"
   ]
  },
  {
   "cell_type": "code",
   "execution_count": 22,
   "metadata": {},
   "outputs": [
    {
     "name": "stdout",
     "output_type": "stream",
     "text": [
      "Train MSE loss = 0.340321430058\n",
      "Train Accuracy = 0.744127272727\n"
     ]
    }
   ],
   "source": [
    "## Least-squares\n",
    "\n",
    "# Add a \"biais\" to the input\n",
    "tx_tr = np.c_[np.ones(x_tr.shape[0]), x_tr]\n",
    "\n",
    "w, loss_tr = least_squares(y_tr, tx_tr)\n",
    "print(\"Train MSE loss =\", loss_tr)\n",
    "\n",
    "# Compute the accuracy\n",
    "y_tr_pred = predict_labels(w, tx_tr)\n",
    "accuracy_tr = 1. - np.sum(np.absolute(y_tr - y_tr_pred)) / 2. / y_tr.shape[0]\n",
    "print(\"Train Accuracy =\", accuracy_tr)"
   ]
  },
  {
   "cell_type": "markdown",
   "metadata": {},
   "source": [
    "## Test the model\n",
    "Test the learned model on the validation set."
   ]
  },
  {
   "cell_type": "code",
   "execution_count": 23,
   "metadata": {},
   "outputs": [
    {
     "name": "stdout",
     "output_type": "stream",
     "text": [
      "Test MSE loss = 0.340643402784\n",
      "Test Accuracy = 0.743588235294\n"
     ]
    }
   ],
   "source": [
    "# Add a \"biais\" to the input\n",
    "tx_te = np.c_[np.ones(x_te.shape[0]), x_te]\n",
    "\n",
    "loss_te = compute_mse_loss(y_te, tx_te, w)\n",
    "print(\"Test MSE loss =\", loss_te)\n",
    "\n",
    "# Compute the accuracy\n",
    "y_te_pred = predict_labels(w, tx_te)\n",
    "accuracy_te = 1. - np.sum(np.absolute(y_te - y_te_pred)) / 2. / y_te.shape[0]\n",
    "print(\"Test Accuracy =\", accuracy_te)"
   ]
  },
  {
   "cell_type": "markdown",
   "metadata": {},
   "source": [
    "# Predict the Kaggle labels\n",
    "Try to predicts the labels of the test set, then create a submission to be posted on Kaggle."
   ]
  },
  {
   "cell_type": "markdown",
   "metadata": {},
   "source": [
    "## Send the test set into the same space as the train set\n",
    "In order to use the same weight, we need to send the testing data into the same space as the during the training (i.e. normalization, centering, PCA, etc.)."
   ]
  },
  {
   "cell_type": "code",
   "execution_count": 24,
   "metadata": {
    "collapsed": true
   },
   "outputs": [],
   "source": [
    "# Create a boolean mask with False at missing values\n",
    "x_test_mask = (x_test != -999.0)\n",
    "\n",
    "# Normalize and center the data\n",
    "x_kaggle = (x_test - x_train_mean) / x_train_std\n",
    "# Set to 0 (the mean) the missing values\n",
    "x_kaggle[np.invert(x_test_mask)] = 0.\n",
    "\n",
    "# Send the data to PCA space\n",
    "x_kaggle_pc = x_kaggle.dot(eigenvectors)\n",
    "\n",
    "# Add a \"bias\" to the input (choose if you want the original, or PCAed data here)\n",
    "tx_kaggle = np.c_[np.ones(x_kaggle.shape[0]), x_kaggle]"
   ]
  },
  {
   "cell_type": "markdown",
   "metadata": {},
   "source": [
    "## Predict the labels, and create a submission"
   ]
  },
  {
   "cell_type": "code",
   "execution_count": 25,
   "metadata": {
    "collapsed": true
   },
   "outputs": [],
   "source": [
    "# Predict the labels\n",
    "y_pred = predict_labels(w, tx_kaggle)\n",
    "\n",
    "# Create a sumbission file to be uploaded to the Kaggle competition\n",
    "create_csv_submission(ids_test, y_pred, \"nico_LS_subm.csv\")"
   ]
  }
 ],
 "metadata": {
  "kernelspec": {
   "display_name": "Python 3",
   "language": "python",
   "name": "python3"
  },
  "language_info": {
   "codemirror_mode": {
    "name": "ipython",
    "version": 3
   },
   "file_extension": ".py",
   "mimetype": "text/x-python",
   "name": "python",
   "nbconvert_exporter": "python",
   "pygments_lexer": "ipython3",
   "version": "3.6.0"
  }
 },
 "nbformat": 4,
 "nbformat_minor": 2
}
